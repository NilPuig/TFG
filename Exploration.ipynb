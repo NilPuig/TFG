{
 "cells": [
  {
   "cell_type": "code",
   "execution_count": 120,
   "metadata": {
    "collapsed": true
   },
   "outputs": [],
   "source": [
    "import pandas as pd\n",
    "import numpy as np"
   ]
  },
  {
   "cell_type": "code",
   "execution_count": 121,
   "metadata": {
    "collapsed": true
   },
   "outputs": [],
   "source": [
    "galaxy=pd.read_csv(\"cat_gal_04.csv\")"
   ]
  },
  {
   "cell_type": "code",
   "execution_count": 122,
   "metadata": {},
   "outputs": [
    {
     "data": {
      "text/html": [
       "<div>\n",
       "<style>\n",
       "    .dataframe thead tr:only-child th {\n",
       "        text-align: right;\n",
       "    }\n",
       "\n",
       "    .dataframe thead th {\n",
       "        text-align: left;\n",
       "    }\n",
       "\n",
       "    .dataframe tbody tr th {\n",
       "        vertical-align: top;\n",
       "    }\n",
       "</style>\n",
       "<table border=\"1\" class=\"dataframe\">\n",
       "  <thead>\n",
       "    <tr style=\"text-align: right;\">\n",
       "      <th></th>\n",
       "      <th>production_id</th>\n",
       "      <th>id</th>\n",
       "      <th>ref_id</th>\n",
       "      <th>ref_cat</th>\n",
       "      <th>flux_nb455</th>\n",
       "      <th>flux_nb465</th>\n",
       "      <th>flux_nb475</th>\n",
       "      <th>flux_nb485</th>\n",
       "      <th>flux_nb495</th>\n",
       "      <th>flux_nb505</th>\n",
       "      <th>...</th>\n",
       "      <th>flux_err_nb835</th>\n",
       "      <th>flux_err_nb845</th>\n",
       "      <th>n_bands</th>\n",
       "      <th>umag</th>\n",
       "      <th>bmag</th>\n",
       "      <th>vmag</th>\n",
       "      <th>gmag</th>\n",
       "      <th>rmag</th>\n",
       "      <th>zmag</th>\n",
       "      <th>type</th>\n",
       "    </tr>\n",
       "  </thead>\n",
       "  <tbody>\n",
       "    <tr>\n",
       "      <th>0</th>\n",
       "      <td>689</td>\n",
       "      <td>7173642</td>\n",
       "      <td>81</td>\n",
       "      <td>COSMOS</td>\n",
       "      <td>123.44900</td>\n",
       "      <td>132.61500</td>\n",
       "      <td>158.91300</td>\n",
       "      <td>145.590000</td>\n",
       "      <td>163.37600</td>\n",
       "      <td>183.78900</td>\n",
       "      <td>...</td>\n",
       "      <td>11.72360</td>\n",
       "      <td>11.27350</td>\n",
       "      <td>40</td>\n",
       "      <td>21.65</td>\n",
       "      <td>20.90</td>\n",
       "      <td>20.31</td>\n",
       "      <td>20.86</td>\n",
       "      <td>20.18</td>\n",
       "      <td>19.63</td>\n",
       "      <td>0</td>\n",
       "    </tr>\n",
       "    <tr>\n",
       "      <th>1</th>\n",
       "      <td>689</td>\n",
       "      <td>7172528</td>\n",
       "      <td>137</td>\n",
       "      <td>COSMOS</td>\n",
       "      <td>8.49438</td>\n",
       "      <td>-15.83780</td>\n",
       "      <td>30.58920</td>\n",
       "      <td>0.362942</td>\n",
       "      <td>21.03530</td>\n",
       "      <td>8.46712</td>\n",
       "      <td>...</td>\n",
       "      <td>13.13820</td>\n",
       "      <td>12.30270</td>\n",
       "      <td>40</td>\n",
       "      <td>25.30</td>\n",
       "      <td>24.77</td>\n",
       "      <td>24.39</td>\n",
       "      <td>25.02</td>\n",
       "      <td>23.89</td>\n",
       "      <td>21.96</td>\n",
       "      <td>0</td>\n",
       "    </tr>\n",
       "    <tr>\n",
       "      <th>2</th>\n",
       "      <td>689</td>\n",
       "      <td>7173712</td>\n",
       "      <td>151</td>\n",
       "      <td>COSMOS</td>\n",
       "      <td>12.99040</td>\n",
       "      <td>6.52502</td>\n",
       "      <td>6.43737</td>\n",
       "      <td>12.775300</td>\n",
       "      <td>10.38880</td>\n",
       "      <td>12.75550</td>\n",
       "      <td>...</td>\n",
       "      <td>7.12451</td>\n",
       "      <td>5.33342</td>\n",
       "      <td>40</td>\n",
       "      <td>23.93</td>\n",
       "      <td>23.10</td>\n",
       "      <td>22.71</td>\n",
       "      <td>23.16</td>\n",
       "      <td>22.62</td>\n",
       "      <td>22.09</td>\n",
       "      <td>0</td>\n",
       "    </tr>\n",
       "    <tr>\n",
       "      <th>3</th>\n",
       "      <td>689</td>\n",
       "      <td>7173820</td>\n",
       "      <td>345</td>\n",
       "      <td>COSMOS</td>\n",
       "      <td>9.65172</td>\n",
       "      <td>3.94335</td>\n",
       "      <td>14.68870</td>\n",
       "      <td>1.341380</td>\n",
       "      <td>14.88580</td>\n",
       "      <td>5.39008</td>\n",
       "      <td>...</td>\n",
       "      <td>10.12890</td>\n",
       "      <td>10.36730</td>\n",
       "      <td>40</td>\n",
       "      <td>24.05</td>\n",
       "      <td>23.66</td>\n",
       "      <td>23.39</td>\n",
       "      <td>23.72</td>\n",
       "      <td>23.02</td>\n",
       "      <td>21.99</td>\n",
       "      <td>0</td>\n",
       "    </tr>\n",
       "    <tr>\n",
       "      <th>4</th>\n",
       "      <td>689</td>\n",
       "      <td>7173830</td>\n",
       "      <td>349</td>\n",
       "      <td>COSMOS</td>\n",
       "      <td>1.07877</td>\n",
       "      <td>2.90570</td>\n",
       "      <td>4.61733</td>\n",
       "      <td>8.326370</td>\n",
       "      <td>-4.03998</td>\n",
       "      <td>5.76601</td>\n",
       "      <td>...</td>\n",
       "      <td>6.48927</td>\n",
       "      <td>8.80570</td>\n",
       "      <td>40</td>\n",
       "      <td>24.20</td>\n",
       "      <td>23.75</td>\n",
       "      <td>23.23</td>\n",
       "      <td>23.74</td>\n",
       "      <td>23.10</td>\n",
       "      <td>22.66</td>\n",
       "      <td>0</td>\n",
       "    </tr>\n",
       "  </tbody>\n",
       "</table>\n",
       "<p>5 rows × 92 columns</p>\n",
       "</div>"
      ],
      "text/plain": [
       "   production_id       id  ref_id ref_cat  flux_nb455  flux_nb465  flux_nb475  \\\n",
       "0            689  7173642      81  COSMOS   123.44900   132.61500   158.91300   \n",
       "1            689  7172528     137  COSMOS     8.49438   -15.83780    30.58920   \n",
       "2            689  7173712     151  COSMOS    12.99040     6.52502     6.43737   \n",
       "3            689  7173820     345  COSMOS     9.65172     3.94335    14.68870   \n",
       "4            689  7173830     349  COSMOS     1.07877     2.90570     4.61733   \n",
       "\n",
       "   flux_nb485  flux_nb495  flux_nb505  ...   flux_err_nb835  flux_err_nb845  \\\n",
       "0  145.590000   163.37600   183.78900  ...         11.72360        11.27350   \n",
       "1    0.362942    21.03530     8.46712  ...         13.13820        12.30270   \n",
       "2   12.775300    10.38880    12.75550  ...          7.12451         5.33342   \n",
       "3    1.341380    14.88580     5.39008  ...         10.12890        10.36730   \n",
       "4    8.326370    -4.03998     5.76601  ...          6.48927         8.80570   \n",
       "\n",
       "   n_bands   umag   bmag   vmag   gmag   rmag   zmag  type  \n",
       "0       40  21.65  20.90  20.31  20.86  20.18  19.63     0  \n",
       "1       40  25.30  24.77  24.39  25.02  23.89  21.96     0  \n",
       "2       40  23.93  23.10  22.71  23.16  22.62  22.09     0  \n",
       "3       40  24.05  23.66  23.39  23.72  23.02  21.99     0  \n",
       "4       40  24.20  23.75  23.23  23.74  23.10  22.66     0  \n",
       "\n",
       "[5 rows x 92 columns]"
      ]
     },
     "execution_count": 122,
     "metadata": {},
     "output_type": "execute_result"
    }
   ],
   "source": [
    "galaxy.head()"
   ]
  },
  {
   "cell_type": "code",
   "execution_count": 123,
   "metadata": {
    "collapsed": true
   },
   "outputs": [],
   "source": [
    "basename='flux_nb'\n",
    "initialnumber=455;\n",
    "requiredColumns=[]\n",
    "for i in range(40):\n",
    "    requiredColumns.append(basename+str(initialnumber+10*i))\n",
    "    "
   ]
  },
  {
   "cell_type": "code",
   "execution_count": null,
   "metadata": {
    "collapsed": true
   },
   "outputs": [],
   "source": []
  },
  {
   "cell_type": "code",
   "execution_count": null,
   "metadata": {
    "collapsed": true
   },
   "outputs": [],
   "source": []
  },
  {
   "cell_type": "code",
   "execution_count": null,
   "metadata": {
    "collapsed": true
   },
   "outputs": [],
   "source": []
  },
  {
   "cell_type": "code",
   "execution_count": 124,
   "metadata": {
    "collapsed": true
   },
   "outputs": [],
   "source": [
    "star=pd.read_csv(\"cat_star_04.csv\")"
   ]
  },
  {
   "cell_type": "code",
   "execution_count": 125,
   "metadata": {
    "collapsed": true
   },
   "outputs": [],
   "source": [
    "del star['type']\n",
    "del galaxy['type']"
   ]
  },
  {
   "cell_type": "code",
   "execution_count": 126,
   "metadata": {},
   "outputs": [
    {
     "data": {
      "text/html": [
       "<div>\n",
       "<style>\n",
       "    .dataframe thead tr:only-child th {\n",
       "        text-align: right;\n",
       "    }\n",
       "\n",
       "    .dataframe thead th {\n",
       "        text-align: left;\n",
       "    }\n",
       "\n",
       "    .dataframe tbody tr th {\n",
       "        vertical-align: top;\n",
       "    }\n",
       "</style>\n",
       "<table border=\"1\" class=\"dataframe\">\n",
       "  <thead>\n",
       "    <tr style=\"text-align: right;\">\n",
       "      <th></th>\n",
       "      <th>production_id</th>\n",
       "      <th>id</th>\n",
       "      <th>ref_id</th>\n",
       "      <th>ref_cat</th>\n",
       "      <th>flux_nb455</th>\n",
       "      <th>flux_nb465</th>\n",
       "      <th>flux_nb475</th>\n",
       "      <th>flux_nb485</th>\n",
       "      <th>flux_nb495</th>\n",
       "      <th>flux_nb505</th>\n",
       "      <th>...</th>\n",
       "      <th>flux_err_nb825</th>\n",
       "      <th>flux_err_nb835</th>\n",
       "      <th>flux_err_nb845</th>\n",
       "      <th>n_bands</th>\n",
       "      <th>umag</th>\n",
       "      <th>bmag</th>\n",
       "      <th>vmag</th>\n",
       "      <th>gmag</th>\n",
       "      <th>rmag</th>\n",
       "      <th>zmag</th>\n",
       "    </tr>\n",
       "  </thead>\n",
       "  <tbody>\n",
       "    <tr>\n",
       "      <th>0</th>\n",
       "      <td>689</td>\n",
       "      <td>7173822</td>\n",
       "      <td>346</td>\n",
       "      <td>COSMOS</td>\n",
       "      <td>1.92986</td>\n",
       "      <td>-3.32708</td>\n",
       "      <td>0.164769</td>\n",
       "      <td>6.26762</td>\n",
       "      <td>8.14376</td>\n",
       "      <td>2.86916</td>\n",
       "      <td>...</td>\n",
       "      <td>3.21719</td>\n",
       "      <td>4.32927</td>\n",
       "      <td>4.70207</td>\n",
       "      <td>40</td>\n",
       "      <td>26.96</td>\n",
       "      <td>24.82</td>\n",
       "      <td>23.67</td>\n",
       "      <td>24.57</td>\n",
       "      <td>23.19</td>\n",
       "      <td>22.05</td>\n",
       "    </tr>\n",
       "    <tr>\n",
       "      <th>1</th>\n",
       "      <td>689</td>\n",
       "      <td>7171286</td>\n",
       "      <td>851</td>\n",
       "      <td>COSMOS</td>\n",
       "      <td>22.52590</td>\n",
       "      <td>28.05860</td>\n",
       "      <td>24.309400</td>\n",
       "      <td>25.30680</td>\n",
       "      <td>26.02040</td>\n",
       "      <td>27.41660</td>\n",
       "      <td>...</td>\n",
       "      <td>3.17003</td>\n",
       "      <td>4.75393</td>\n",
       "      <td>4.03217</td>\n",
       "      <td>40</td>\n",
       "      <td>22.70</td>\n",
       "      <td>21.94</td>\n",
       "      <td>21.83</td>\n",
       "      <td>22.09</td>\n",
       "      <td>21.83</td>\n",
       "      <td>21.70</td>\n",
       "    </tr>\n",
       "    <tr>\n",
       "      <th>2</th>\n",
       "      <td>689</td>\n",
       "      <td>7171706</td>\n",
       "      <td>934</td>\n",
       "      <td>COSMOS</td>\n",
       "      <td>15.32470</td>\n",
       "      <td>11.69490</td>\n",
       "      <td>14.104500</td>\n",
       "      <td>11.29830</td>\n",
       "      <td>9.14734</td>\n",
       "      <td>8.11625</td>\n",
       "      <td>...</td>\n",
       "      <td>3.40971</td>\n",
       "      <td>5.55345</td>\n",
       "      <td>4.36661</td>\n",
       "      <td>40</td>\n",
       "      <td>25.34</td>\n",
       "      <td>23.39</td>\n",
       "      <td>22.32</td>\n",
       "      <td>23.25</td>\n",
       "      <td>21.80</td>\n",
       "      <td>20.61</td>\n",
       "    </tr>\n",
       "    <tr>\n",
       "      <th>3</th>\n",
       "      <td>689</td>\n",
       "      <td>7176412</td>\n",
       "      <td>1395</td>\n",
       "      <td>COSMOS</td>\n",
       "      <td>5.50019</td>\n",
       "      <td>14.03800</td>\n",
       "      <td>14.837800</td>\n",
       "      <td>11.21410</td>\n",
       "      <td>10.64130</td>\n",
       "      <td>11.56490</td>\n",
       "      <td>...</td>\n",
       "      <td>3.66104</td>\n",
       "      <td>3.60954</td>\n",
       "      <td>5.22344</td>\n",
       "      <td>40</td>\n",
       "      <td>24.91</td>\n",
       "      <td>23.33</td>\n",
       "      <td>22.04</td>\n",
       "      <td>22.98</td>\n",
       "      <td>21.47</td>\n",
       "      <td>19.72</td>\n",
       "    </tr>\n",
       "    <tr>\n",
       "      <th>4</th>\n",
       "      <td>689</td>\n",
       "      <td>7178128</td>\n",
       "      <td>1555</td>\n",
       "      <td>COSMOS</td>\n",
       "      <td>19.62390</td>\n",
       "      <td>13.76380</td>\n",
       "      <td>23.007000</td>\n",
       "      <td>24.28930</td>\n",
       "      <td>26.28510</td>\n",
       "      <td>17.68540</td>\n",
       "      <td>...</td>\n",
       "      <td>3.91543</td>\n",
       "      <td>4.31260</td>\n",
       "      <td>4.89645</td>\n",
       "      <td>40</td>\n",
       "      <td>22.90</td>\n",
       "      <td>22.20</td>\n",
       "      <td>22.05</td>\n",
       "      <td>22.34</td>\n",
       "      <td>22.01</td>\n",
       "      <td>21.78</td>\n",
       "    </tr>\n",
       "  </tbody>\n",
       "</table>\n",
       "<p>5 rows × 91 columns</p>\n",
       "</div>"
      ],
      "text/plain": [
       "   production_id       id  ref_id ref_cat  flux_nb455  flux_nb465  flux_nb475  \\\n",
       "0            689  7173822     346  COSMOS     1.92986    -3.32708    0.164769   \n",
       "1            689  7171286     851  COSMOS    22.52590    28.05860   24.309400   \n",
       "2            689  7171706     934  COSMOS    15.32470    11.69490   14.104500   \n",
       "3            689  7176412    1395  COSMOS     5.50019    14.03800   14.837800   \n",
       "4            689  7178128    1555  COSMOS    19.62390    13.76380   23.007000   \n",
       "\n",
       "   flux_nb485  flux_nb495  flux_nb505  ...    flux_err_nb825  flux_err_nb835  \\\n",
       "0     6.26762     8.14376     2.86916  ...           3.21719         4.32927   \n",
       "1    25.30680    26.02040    27.41660  ...           3.17003         4.75393   \n",
       "2    11.29830     9.14734     8.11625  ...           3.40971         5.55345   \n",
       "3    11.21410    10.64130    11.56490  ...           3.66104         3.60954   \n",
       "4    24.28930    26.28510    17.68540  ...           3.91543         4.31260   \n",
       "\n",
       "   flux_err_nb845  n_bands   umag   bmag   vmag   gmag   rmag   zmag  \n",
       "0         4.70207       40  26.96  24.82  23.67  24.57  23.19  22.05  \n",
       "1         4.03217       40  22.70  21.94  21.83  22.09  21.83  21.70  \n",
       "2         4.36661       40  25.34  23.39  22.32  23.25  21.80  20.61  \n",
       "3         5.22344       40  24.91  23.33  22.04  22.98  21.47  19.72  \n",
       "4         4.89645       40  22.90  22.20  22.05  22.34  22.01  21.78  \n",
       "\n",
       "[5 rows x 91 columns]"
      ]
     },
     "execution_count": 126,
     "metadata": {},
     "output_type": "execute_result"
    }
   ],
   "source": [
    "star.head()"
   ]
  },
  {
   "cell_type": "code",
   "execution_count": 127,
   "metadata": {
    "collapsed": true
   },
   "outputs": [],
   "source": [
    "del galaxy['production_id']"
   ]
  },
  {
   "cell_type": "code",
   "execution_count": 128,
   "metadata": {
    "collapsed": true
   },
   "outputs": [],
   "source": [
    "del galaxy['id']"
   ]
  },
  {
   "cell_type": "code",
   "execution_count": 129,
   "metadata": {
    "collapsed": true
   },
   "outputs": [],
   "source": [
    "del star['production_id']"
   ]
  },
  {
   "cell_type": "code",
   "execution_count": 130,
   "metadata": {
    "collapsed": true
   },
   "outputs": [],
   "source": [
    "del star['id']"
   ]
  },
  {
   "cell_type": "code",
   "execution_count": 131,
   "metadata": {
    "collapsed": true
   },
   "outputs": [],
   "source": [
    "del star['ref_cat']"
   ]
  },
  {
   "cell_type": "code",
   "execution_count": 132,
   "metadata": {
    "collapsed": true
   },
   "outputs": [],
   "source": [
    "del galaxy['ref_cat']\n",
    "del galaxy['ref_id']\n",
    "del star['ref_id']"
   ]
  },
  {
   "cell_type": "code",
   "execution_count": 133,
   "metadata": {
    "collapsed": true
   },
   "outputs": [],
   "source": [
    "starTraining=pd.DataFrame()\n",
    "galaxyTraining=pd.DataFrame()"
   ]
  },
  {
   "cell_type": "code",
   "execution_count": 134,
   "metadata": {
    "collapsed": true
   },
   "outputs": [],
   "source": [
    "for i in requiredColumns:\n",
    "    starTraining[i]=star[i]\n",
    "    galaxyTraining[i]=galaxy[i]"
   ]
  },
  {
   "cell_type": "code",
   "execution_count": 135,
   "metadata": {},
   "outputs": [
    {
     "data": {
      "text/html": [
       "<div>\n",
       "<style>\n",
       "    .dataframe thead tr:only-child th {\n",
       "        text-align: right;\n",
       "    }\n",
       "\n",
       "    .dataframe thead th {\n",
       "        text-align: left;\n",
       "    }\n",
       "\n",
       "    .dataframe tbody tr th {\n",
       "        vertical-align: top;\n",
       "    }\n",
       "</style>\n",
       "<table border=\"1\" class=\"dataframe\">\n",
       "  <thead>\n",
       "    <tr style=\"text-align: right;\">\n",
       "      <th></th>\n",
       "      <th>flux_nb455</th>\n",
       "      <th>flux_nb465</th>\n",
       "      <th>flux_nb475</th>\n",
       "      <th>flux_nb485</th>\n",
       "      <th>flux_nb495</th>\n",
       "      <th>flux_nb505</th>\n",
       "      <th>flux_nb515</th>\n",
       "      <th>flux_nb525</th>\n",
       "      <th>flux_nb535</th>\n",
       "      <th>flux_nb545</th>\n",
       "      <th>...</th>\n",
       "      <th>flux_nb755</th>\n",
       "      <th>flux_nb765</th>\n",
       "      <th>flux_nb775</th>\n",
       "      <th>flux_nb785</th>\n",
       "      <th>flux_nb795</th>\n",
       "      <th>flux_nb805</th>\n",
       "      <th>flux_nb815</th>\n",
       "      <th>flux_nb825</th>\n",
       "      <th>flux_nb835</th>\n",
       "      <th>flux_nb845</th>\n",
       "    </tr>\n",
       "  </thead>\n",
       "  <tbody>\n",
       "    <tr>\n",
       "      <th>0</th>\n",
       "      <td>1.92986</td>\n",
       "      <td>-3.32708</td>\n",
       "      <td>0.164769</td>\n",
       "      <td>6.26762</td>\n",
       "      <td>8.14376</td>\n",
       "      <td>2.86916</td>\n",
       "      <td>6.63043</td>\n",
       "      <td>6.10373</td>\n",
       "      <td>6.27706</td>\n",
       "      <td>5.53524</td>\n",
       "      <td>...</td>\n",
       "      <td>20.6072</td>\n",
       "      <td>21.6058</td>\n",
       "      <td>19.4299</td>\n",
       "      <td>26.7860</td>\n",
       "      <td>21.5572</td>\n",
       "      <td>14.8760</td>\n",
       "      <td>22.3911</td>\n",
       "      <td>25.3999</td>\n",
       "      <td>24.3821</td>\n",
       "      <td>25.0108</td>\n",
       "    </tr>\n",
       "    <tr>\n",
       "      <th>1</th>\n",
       "      <td>22.52590</td>\n",
       "      <td>28.05860</td>\n",
       "      <td>24.309400</td>\n",
       "      <td>25.30680</td>\n",
       "      <td>26.02040</td>\n",
       "      <td>27.41660</td>\n",
       "      <td>28.58850</td>\n",
       "      <td>28.42400</td>\n",
       "      <td>26.79760</td>\n",
       "      <td>35.83690</td>\n",
       "      <td>...</td>\n",
       "      <td>44.3968</td>\n",
       "      <td>30.5420</td>\n",
       "      <td>33.6569</td>\n",
       "      <td>33.5219</td>\n",
       "      <td>32.0281</td>\n",
       "      <td>39.6865</td>\n",
       "      <td>35.2799</td>\n",
       "      <td>29.7202</td>\n",
       "      <td>37.5383</td>\n",
       "      <td>37.5809</td>\n",
       "    </tr>\n",
       "    <tr>\n",
       "      <th>2</th>\n",
       "      <td>15.32470</td>\n",
       "      <td>11.69490</td>\n",
       "      <td>14.104500</td>\n",
       "      <td>11.29830</td>\n",
       "      <td>9.14734</td>\n",
       "      <td>8.11625</td>\n",
       "      <td>9.37619</td>\n",
       "      <td>14.95640</td>\n",
       "      <td>16.38960</td>\n",
       "      <td>15.68470</td>\n",
       "      <td>...</td>\n",
       "      <td>76.4515</td>\n",
       "      <td>71.6377</td>\n",
       "      <td>60.8721</td>\n",
       "      <td>75.7418</td>\n",
       "      <td>70.2047</td>\n",
       "      <td>80.8307</td>\n",
       "      <td>81.7389</td>\n",
       "      <td>85.5125</td>\n",
       "      <td>94.8986</td>\n",
       "      <td>85.1857</td>\n",
       "    </tr>\n",
       "    <tr>\n",
       "      <th>3</th>\n",
       "      <td>5.50019</td>\n",
       "      <td>14.03800</td>\n",
       "      <td>14.837800</td>\n",
       "      <td>11.21410</td>\n",
       "      <td>10.64130</td>\n",
       "      <td>11.56490</td>\n",
       "      <td>11.59360</td>\n",
       "      <td>14.57450</td>\n",
       "      <td>21.89650</td>\n",
       "      <td>18.88010</td>\n",
       "      <td>...</td>\n",
       "      <td>143.0640</td>\n",
       "      <td>123.6430</td>\n",
       "      <td>125.9740</td>\n",
       "      <td>139.2400</td>\n",
       "      <td>153.2650</td>\n",
       "      <td>182.9510</td>\n",
       "      <td>184.4680</td>\n",
       "      <td>194.0290</td>\n",
       "      <td>184.9250</td>\n",
       "      <td>178.1220</td>\n",
       "    </tr>\n",
       "    <tr>\n",
       "      <th>4</th>\n",
       "      <td>19.62390</td>\n",
       "      <td>13.76380</td>\n",
       "      <td>23.007000</td>\n",
       "      <td>24.28930</td>\n",
       "      <td>26.28510</td>\n",
       "      <td>17.68540</td>\n",
       "      <td>20.63140</td>\n",
       "      <td>21.38260</td>\n",
       "      <td>22.84940</td>\n",
       "      <td>30.51300</td>\n",
       "      <td>...</td>\n",
       "      <td>25.5067</td>\n",
       "      <td>32.3622</td>\n",
       "      <td>32.5666</td>\n",
       "      <td>27.6383</td>\n",
       "      <td>24.4480</td>\n",
       "      <td>37.8403</td>\n",
       "      <td>28.3031</td>\n",
       "      <td>37.9221</td>\n",
       "      <td>32.1755</td>\n",
       "      <td>29.6770</td>\n",
       "    </tr>\n",
       "  </tbody>\n",
       "</table>\n",
       "<p>5 rows × 40 columns</p>\n",
       "</div>"
      ],
      "text/plain": [
       "   flux_nb455  flux_nb465  flux_nb475  flux_nb485  flux_nb495  flux_nb505  \\\n",
       "0     1.92986    -3.32708    0.164769     6.26762     8.14376     2.86916   \n",
       "1    22.52590    28.05860   24.309400    25.30680    26.02040    27.41660   \n",
       "2    15.32470    11.69490   14.104500    11.29830     9.14734     8.11625   \n",
       "3     5.50019    14.03800   14.837800    11.21410    10.64130    11.56490   \n",
       "4    19.62390    13.76380   23.007000    24.28930    26.28510    17.68540   \n",
       "\n",
       "   flux_nb515  flux_nb525  flux_nb535  flux_nb545     ...      flux_nb755  \\\n",
       "0     6.63043     6.10373     6.27706     5.53524     ...         20.6072   \n",
       "1    28.58850    28.42400    26.79760    35.83690     ...         44.3968   \n",
       "2     9.37619    14.95640    16.38960    15.68470     ...         76.4515   \n",
       "3    11.59360    14.57450    21.89650    18.88010     ...        143.0640   \n",
       "4    20.63140    21.38260    22.84940    30.51300     ...         25.5067   \n",
       "\n",
       "   flux_nb765  flux_nb775  flux_nb785  flux_nb795  flux_nb805  flux_nb815  \\\n",
       "0     21.6058     19.4299     26.7860     21.5572     14.8760     22.3911   \n",
       "1     30.5420     33.6569     33.5219     32.0281     39.6865     35.2799   \n",
       "2     71.6377     60.8721     75.7418     70.2047     80.8307     81.7389   \n",
       "3    123.6430    125.9740    139.2400    153.2650    182.9510    184.4680   \n",
       "4     32.3622     32.5666     27.6383     24.4480     37.8403     28.3031   \n",
       "\n",
       "   flux_nb825  flux_nb835  flux_nb845  \n",
       "0     25.3999     24.3821     25.0108  \n",
       "1     29.7202     37.5383     37.5809  \n",
       "2     85.5125     94.8986     85.1857  \n",
       "3    194.0290    184.9250    178.1220  \n",
       "4     37.9221     32.1755     29.6770  \n",
       "\n",
       "[5 rows x 40 columns]"
      ]
     },
     "execution_count": 135,
     "metadata": {},
     "output_type": "execute_result"
    }
   ],
   "source": [
    "starTraining.head()"
   ]
  },
  {
   "cell_type": "code",
   "execution_count": 136,
   "metadata": {
    "collapsed": true
   },
   "outputs": [],
   "source": [
    "starTraining['class']=0\n",
    "galaxyTraining['class']=1"
   ]
  },
  {
   "cell_type": "code",
   "execution_count": 137,
   "metadata": {
    "collapsed": true
   },
   "outputs": [],
   "source": [
    "frames=[starTraining,galaxyTraining]\n",
    "combined=pd.concat(frames)"
   ]
  },
  {
   "cell_type": "code",
   "execution_count": 138,
   "metadata": {},
   "outputs": [
    {
     "data": {
      "text/html": [
       "<div>\n",
       "<style>\n",
       "    .dataframe thead tr:only-child th {\n",
       "        text-align: right;\n",
       "    }\n",
       "\n",
       "    .dataframe thead th {\n",
       "        text-align: left;\n",
       "    }\n",
       "\n",
       "    .dataframe tbody tr th {\n",
       "        vertical-align: top;\n",
       "    }\n",
       "</style>\n",
       "<table border=\"1\" class=\"dataframe\">\n",
       "  <thead>\n",
       "    <tr style=\"text-align: right;\">\n",
       "      <th></th>\n",
       "      <th>flux_nb455</th>\n",
       "      <th>flux_nb465</th>\n",
       "      <th>flux_nb475</th>\n",
       "      <th>flux_nb485</th>\n",
       "      <th>flux_nb495</th>\n",
       "      <th>flux_nb505</th>\n",
       "      <th>flux_nb515</th>\n",
       "      <th>flux_nb525</th>\n",
       "      <th>flux_nb535</th>\n",
       "      <th>flux_nb545</th>\n",
       "      <th>...</th>\n",
       "      <th>flux_nb765</th>\n",
       "      <th>flux_nb775</th>\n",
       "      <th>flux_nb785</th>\n",
       "      <th>flux_nb795</th>\n",
       "      <th>flux_nb805</th>\n",
       "      <th>flux_nb815</th>\n",
       "      <th>flux_nb825</th>\n",
       "      <th>flux_nb835</th>\n",
       "      <th>flux_nb845</th>\n",
       "      <th>class</th>\n",
       "    </tr>\n",
       "  </thead>\n",
       "  <tbody>\n",
       "    <tr>\n",
       "      <th>0</th>\n",
       "      <td>1.92986</td>\n",
       "      <td>-3.32708</td>\n",
       "      <td>0.164769</td>\n",
       "      <td>6.26762</td>\n",
       "      <td>8.14376</td>\n",
       "      <td>2.86916</td>\n",
       "      <td>6.63043</td>\n",
       "      <td>6.10373</td>\n",
       "      <td>6.27706</td>\n",
       "      <td>5.53524</td>\n",
       "      <td>...</td>\n",
       "      <td>21.6058</td>\n",
       "      <td>19.4299</td>\n",
       "      <td>26.7860</td>\n",
       "      <td>21.5572</td>\n",
       "      <td>14.8760</td>\n",
       "      <td>22.3911</td>\n",
       "      <td>25.3999</td>\n",
       "      <td>24.3821</td>\n",
       "      <td>25.0108</td>\n",
       "      <td>0</td>\n",
       "    </tr>\n",
       "    <tr>\n",
       "      <th>1</th>\n",
       "      <td>22.52590</td>\n",
       "      <td>28.05860</td>\n",
       "      <td>24.309400</td>\n",
       "      <td>25.30680</td>\n",
       "      <td>26.02040</td>\n",
       "      <td>27.41660</td>\n",
       "      <td>28.58850</td>\n",
       "      <td>28.42400</td>\n",
       "      <td>26.79760</td>\n",
       "      <td>35.83690</td>\n",
       "      <td>...</td>\n",
       "      <td>30.5420</td>\n",
       "      <td>33.6569</td>\n",
       "      <td>33.5219</td>\n",
       "      <td>32.0281</td>\n",
       "      <td>39.6865</td>\n",
       "      <td>35.2799</td>\n",
       "      <td>29.7202</td>\n",
       "      <td>37.5383</td>\n",
       "      <td>37.5809</td>\n",
       "      <td>0</td>\n",
       "    </tr>\n",
       "    <tr>\n",
       "      <th>2</th>\n",
       "      <td>15.32470</td>\n",
       "      <td>11.69490</td>\n",
       "      <td>14.104500</td>\n",
       "      <td>11.29830</td>\n",
       "      <td>9.14734</td>\n",
       "      <td>8.11625</td>\n",
       "      <td>9.37619</td>\n",
       "      <td>14.95640</td>\n",
       "      <td>16.38960</td>\n",
       "      <td>15.68470</td>\n",
       "      <td>...</td>\n",
       "      <td>71.6377</td>\n",
       "      <td>60.8721</td>\n",
       "      <td>75.7418</td>\n",
       "      <td>70.2047</td>\n",
       "      <td>80.8307</td>\n",
       "      <td>81.7389</td>\n",
       "      <td>85.5125</td>\n",
       "      <td>94.8986</td>\n",
       "      <td>85.1857</td>\n",
       "      <td>0</td>\n",
       "    </tr>\n",
       "    <tr>\n",
       "      <th>3</th>\n",
       "      <td>5.50019</td>\n",
       "      <td>14.03800</td>\n",
       "      <td>14.837800</td>\n",
       "      <td>11.21410</td>\n",
       "      <td>10.64130</td>\n",
       "      <td>11.56490</td>\n",
       "      <td>11.59360</td>\n",
       "      <td>14.57450</td>\n",
       "      <td>21.89650</td>\n",
       "      <td>18.88010</td>\n",
       "      <td>...</td>\n",
       "      <td>123.6430</td>\n",
       "      <td>125.9740</td>\n",
       "      <td>139.2400</td>\n",
       "      <td>153.2650</td>\n",
       "      <td>182.9510</td>\n",
       "      <td>184.4680</td>\n",
       "      <td>194.0290</td>\n",
       "      <td>184.9250</td>\n",
       "      <td>178.1220</td>\n",
       "      <td>0</td>\n",
       "    </tr>\n",
       "    <tr>\n",
       "      <th>4</th>\n",
       "      <td>19.62390</td>\n",
       "      <td>13.76380</td>\n",
       "      <td>23.007000</td>\n",
       "      <td>24.28930</td>\n",
       "      <td>26.28510</td>\n",
       "      <td>17.68540</td>\n",
       "      <td>20.63140</td>\n",
       "      <td>21.38260</td>\n",
       "      <td>22.84940</td>\n",
       "      <td>30.51300</td>\n",
       "      <td>...</td>\n",
       "      <td>32.3622</td>\n",
       "      <td>32.5666</td>\n",
       "      <td>27.6383</td>\n",
       "      <td>24.4480</td>\n",
       "      <td>37.8403</td>\n",
       "      <td>28.3031</td>\n",
       "      <td>37.9221</td>\n",
       "      <td>32.1755</td>\n",
       "      <td>29.6770</td>\n",
       "      <td>0</td>\n",
       "    </tr>\n",
       "  </tbody>\n",
       "</table>\n",
       "<p>5 rows × 41 columns</p>\n",
       "</div>"
      ],
      "text/plain": [
       "   flux_nb455  flux_nb465  flux_nb475  flux_nb485  flux_nb495  flux_nb505  \\\n",
       "0     1.92986    -3.32708    0.164769     6.26762     8.14376     2.86916   \n",
       "1    22.52590    28.05860   24.309400    25.30680    26.02040    27.41660   \n",
       "2    15.32470    11.69490   14.104500    11.29830     9.14734     8.11625   \n",
       "3     5.50019    14.03800   14.837800    11.21410    10.64130    11.56490   \n",
       "4    19.62390    13.76380   23.007000    24.28930    26.28510    17.68540   \n",
       "\n",
       "   flux_nb515  flux_nb525  flux_nb535  flux_nb545  ...    flux_nb765  \\\n",
       "0     6.63043     6.10373     6.27706     5.53524  ...       21.6058   \n",
       "1    28.58850    28.42400    26.79760    35.83690  ...       30.5420   \n",
       "2     9.37619    14.95640    16.38960    15.68470  ...       71.6377   \n",
       "3    11.59360    14.57450    21.89650    18.88010  ...      123.6430   \n",
       "4    20.63140    21.38260    22.84940    30.51300  ...       32.3622   \n",
       "\n",
       "   flux_nb775  flux_nb785  flux_nb795  flux_nb805  flux_nb815  flux_nb825  \\\n",
       "0     19.4299     26.7860     21.5572     14.8760     22.3911     25.3999   \n",
       "1     33.6569     33.5219     32.0281     39.6865     35.2799     29.7202   \n",
       "2     60.8721     75.7418     70.2047     80.8307     81.7389     85.5125   \n",
       "3    125.9740    139.2400    153.2650    182.9510    184.4680    194.0290   \n",
       "4     32.5666     27.6383     24.4480     37.8403     28.3031     37.9221   \n",
       "\n",
       "   flux_nb835  flux_nb845  class  \n",
       "0     24.3821     25.0108      0  \n",
       "1     37.5383     37.5809      0  \n",
       "2     94.8986     85.1857      0  \n",
       "3    184.9250    178.1220      0  \n",
       "4     32.1755     29.6770      0  \n",
       "\n",
       "[5 rows x 41 columns]"
      ]
     },
     "execution_count": 138,
     "metadata": {},
     "output_type": "execute_result"
    }
   ],
   "source": [
    "combined.head()"
   ]
  },
  {
   "cell_type": "code",
   "execution_count": 139,
   "metadata": {
    "collapsed": true
   },
   "outputs": [],
   "source": [
    "combined=combined.sample(frac=1)"
   ]
  },
  {
   "cell_type": "code",
   "execution_count": 140,
   "metadata": {},
   "outputs": [
    {
     "data": {
      "text/html": [
       "<div>\n",
       "<style>\n",
       "    .dataframe thead tr:only-child th {\n",
       "        text-align: right;\n",
       "    }\n",
       "\n",
       "    .dataframe thead th {\n",
       "        text-align: left;\n",
       "    }\n",
       "\n",
       "    .dataframe tbody tr th {\n",
       "        vertical-align: top;\n",
       "    }\n",
       "</style>\n",
       "<table border=\"1\" class=\"dataframe\">\n",
       "  <thead>\n",
       "    <tr style=\"text-align: right;\">\n",
       "      <th></th>\n",
       "      <th>flux_nb455</th>\n",
       "      <th>flux_nb465</th>\n",
       "      <th>flux_nb475</th>\n",
       "      <th>flux_nb485</th>\n",
       "      <th>flux_nb495</th>\n",
       "      <th>flux_nb505</th>\n",
       "      <th>flux_nb515</th>\n",
       "      <th>flux_nb525</th>\n",
       "      <th>flux_nb535</th>\n",
       "      <th>flux_nb545</th>\n",
       "      <th>...</th>\n",
       "      <th>flux_nb765</th>\n",
       "      <th>flux_nb775</th>\n",
       "      <th>flux_nb785</th>\n",
       "      <th>flux_nb795</th>\n",
       "      <th>flux_nb805</th>\n",
       "      <th>flux_nb815</th>\n",
       "      <th>flux_nb825</th>\n",
       "      <th>flux_nb835</th>\n",
       "      <th>flux_nb845</th>\n",
       "      <th>class</th>\n",
       "    </tr>\n",
       "  </thead>\n",
       "  <tbody>\n",
       "    <tr>\n",
       "      <th>19083</th>\n",
       "      <td>4.07875</td>\n",
       "      <td>8.02241</td>\n",
       "      <td>10.36740</td>\n",
       "      <td>6.25604</td>\n",
       "      <td>18.19690</td>\n",
       "      <td>10.96270</td>\n",
       "      <td>19.77780</td>\n",
       "      <td>6.81154</td>\n",
       "      <td>10.39890</td>\n",
       "      <td>9.51174</td>\n",
       "      <td>...</td>\n",
       "      <td>21.48730</td>\n",
       "      <td>34.35140</td>\n",
       "      <td>32.3310</td>\n",
       "      <td>19.7652</td>\n",
       "      <td>21.9704</td>\n",
       "      <td>12.4273</td>\n",
       "      <td>29.0523</td>\n",
       "      <td>13.4698</td>\n",
       "      <td>30.1768</td>\n",
       "      <td>1</td>\n",
       "    </tr>\n",
       "    <tr>\n",
       "      <th>29861</th>\n",
       "      <td>-4.07211</td>\n",
       "      <td>-17.75430</td>\n",
       "      <td>7.12404</td>\n",
       "      <td>-2.25699</td>\n",
       "      <td>1.89651</td>\n",
       "      <td>-3.06567</td>\n",
       "      <td>4.06054</td>\n",
       "      <td>5.22989</td>\n",
       "      <td>15.55480</td>\n",
       "      <td>3.66424</td>\n",
       "      <td>...</td>\n",
       "      <td>40.28340</td>\n",
       "      <td>52.71350</td>\n",
       "      <td>47.1255</td>\n",
       "      <td>60.4076</td>\n",
       "      <td>64.1408</td>\n",
       "      <td>70.7677</td>\n",
       "      <td>69.5679</td>\n",
       "      <td>68.9793</td>\n",
       "      <td>66.6822</td>\n",
       "      <td>1</td>\n",
       "    </tr>\n",
       "    <tr>\n",
       "      <th>6586</th>\n",
       "      <td>2779.41000</td>\n",
       "      <td>3027.58000</td>\n",
       "      <td>3052.55000</td>\n",
       "      <td>3257.02000</td>\n",
       "      <td>3288.67000</td>\n",
       "      <td>3208.91000</td>\n",
       "      <td>2944.77000</td>\n",
       "      <td>3718.63000</td>\n",
       "      <td>4386.44000</td>\n",
       "      <td>4680.60000</td>\n",
       "      <td>...</td>\n",
       "      <td>9692.27000</td>\n",
       "      <td>9944.72000</td>\n",
       "      <td>10467.7000</td>\n",
       "      <td>10221.8000</td>\n",
       "      <td>10691.7000</td>\n",
       "      <td>10404.0000</td>\n",
       "      <td>10761.7000</td>\n",
       "      <td>10562.2000</td>\n",
       "      <td>10786.7000</td>\n",
       "      <td>1</td>\n",
       "    </tr>\n",
       "    <tr>\n",
       "      <th>27820</th>\n",
       "      <td>7.07049</td>\n",
       "      <td>4.55491</td>\n",
       "      <td>9.56815</td>\n",
       "      <td>8.08454</td>\n",
       "      <td>9.53537</td>\n",
       "      <td>6.99599</td>\n",
       "      <td>14.56930</td>\n",
       "      <td>9.08767</td>\n",
       "      <td>14.04950</td>\n",
       "      <td>10.67250</td>\n",
       "      <td>...</td>\n",
       "      <td>7.44172</td>\n",
       "      <td>9.45522</td>\n",
       "      <td>21.3768</td>\n",
       "      <td>10.8500</td>\n",
       "      <td>26.9142</td>\n",
       "      <td>21.2379</td>\n",
       "      <td>20.1141</td>\n",
       "      <td>26.7147</td>\n",
       "      <td>27.2749</td>\n",
       "      <td>1</td>\n",
       "    </tr>\n",
       "    <tr>\n",
       "      <th>24260</th>\n",
       "      <td>-2.13752</td>\n",
       "      <td>8.79661</td>\n",
       "      <td>5.25707</td>\n",
       "      <td>2.33877</td>\n",
       "      <td>6.52416</td>\n",
       "      <td>5.71287</td>\n",
       "      <td>1.53501</td>\n",
       "      <td>7.54914</td>\n",
       "      <td>3.45523</td>\n",
       "      <td>5.72342</td>\n",
       "      <td>...</td>\n",
       "      <td>9.00875</td>\n",
       "      <td>28.86010</td>\n",
       "      <td>33.3263</td>\n",
       "      <td>39.2876</td>\n",
       "      <td>27.7989</td>\n",
       "      <td>26.4024</td>\n",
       "      <td>28.4921</td>\n",
       "      <td>21.1317</td>\n",
       "      <td>16.2314</td>\n",
       "      <td>1</td>\n",
       "    </tr>\n",
       "  </tbody>\n",
       "</table>\n",
       "<p>5 rows × 41 columns</p>\n",
       "</div>"
      ],
      "text/plain": [
       "       flux_nb455  flux_nb465  flux_nb475  flux_nb485  flux_nb495  flux_nb505  \\\n",
       "19083     4.07875     8.02241    10.36740     6.25604    18.19690    10.96270   \n",
       "29861    -4.07211   -17.75430     7.12404    -2.25699     1.89651    -3.06567   \n",
       "6586   2779.41000  3027.58000  3052.55000  3257.02000  3288.67000  3208.91000   \n",
       "27820     7.07049     4.55491     9.56815     8.08454     9.53537     6.99599   \n",
       "24260    -2.13752     8.79661     5.25707     2.33877     6.52416     5.71287   \n",
       "\n",
       "       flux_nb515  flux_nb525  flux_nb535  flux_nb545  ...    flux_nb765  \\\n",
       "19083    19.77780     6.81154    10.39890     9.51174  ...      21.48730   \n",
       "29861     4.06054     5.22989    15.55480     3.66424  ...      40.28340   \n",
       "6586   2944.77000  3718.63000  4386.44000  4680.60000  ...    9692.27000   \n",
       "27820    14.56930     9.08767    14.04950    10.67250  ...       7.44172   \n",
       "24260     1.53501     7.54914     3.45523     5.72342  ...       9.00875   \n",
       "\n",
       "       flux_nb775  flux_nb785  flux_nb795  flux_nb805  flux_nb815  flux_nb825  \\\n",
       "19083    34.35140     32.3310     19.7652     21.9704     12.4273     29.0523   \n",
       "29861    52.71350     47.1255     60.4076     64.1408     70.7677     69.5679   \n",
       "6586   9944.72000  10467.7000  10221.8000  10691.7000  10404.0000  10761.7000   \n",
       "27820     9.45522     21.3768     10.8500     26.9142     21.2379     20.1141   \n",
       "24260    28.86010     33.3263     39.2876     27.7989     26.4024     28.4921   \n",
       "\n",
       "       flux_nb835  flux_nb845  class  \n",
       "19083     13.4698     30.1768      1  \n",
       "29861     68.9793     66.6822      1  \n",
       "6586   10562.2000  10786.7000      1  \n",
       "27820     26.7147     27.2749      1  \n",
       "24260     21.1317     16.2314      1  \n",
       "\n",
       "[5 rows x 41 columns]"
      ]
     },
     "execution_count": 140,
     "metadata": {},
     "output_type": "execute_result"
    }
   ],
   "source": [
    "combined.head()"
   ]
  },
  {
   "cell_type": "code",
   "execution_count": 141,
   "metadata": {},
   "outputs": [
    {
     "data": {
      "text/plain": [
       "6286"
      ]
     },
     "execution_count": 141,
     "metadata": {},
     "output_type": "execute_result"
    }
   ],
   "source": [
    "len(star)"
   ]
  },
  {
   "cell_type": "code",
   "execution_count": 142,
   "metadata": {},
   "outputs": [
    {
     "data": {
      "text/plain": [
       "31654"
      ]
     },
     "execution_count": 142,
     "metadata": {},
     "output_type": "execute_result"
    }
   ],
   "source": [
    "len(galaxy)"
   ]
  },
  {
   "cell_type": "code",
   "execution_count": 143,
   "metadata": {},
   "outputs": [
    {
     "data": {
      "text/plain": [
       "37940"
      ]
     },
     "execution_count": 143,
     "metadata": {},
     "output_type": "execute_result"
    }
   ],
   "source": [
    "len(combined)"
   ]
  },
  {
   "cell_type": "code",
   "execution_count": 144,
   "metadata": {
    "collapsed": true
   },
   "outputs": [],
   "source": [
    "test=combined.tail(5000)"
   ]
  },
  {
   "cell_type": "code",
   "execution_count": 145,
   "metadata": {
    "collapsed": true
   },
   "outputs": [],
   "source": [
    "combined=combined.head(32940)"
   ]
  },
  {
   "cell_type": "code",
   "execution_count": 148,
   "metadata": {
    "collapsed": true
   },
   "outputs": [],
   "source": [
    "from sklearn.neighbors import  KNeighborsClassifier"
   ]
  },
  {
   "cell_type": "code",
   "execution_count": 154,
   "metadata": {
    "collapsed": true
   },
   "outputs": [],
   "source": [
    "clfKNN=KNeighborsClassifier(n_neighbors=3)"
   ]
  },
  {
   "cell_type": "code",
   "execution_count": 155,
   "metadata": {},
   "outputs": [
    {
     "data": {
      "text/plain": [
       "KNeighborsClassifier(algorithm='auto', leaf_size=30, metric='minkowski',\n",
       "           metric_params=None, n_jobs=1, n_neighbors=3, p=2,\n",
       "           weights='uniform')"
      ]
     },
     "execution_count": 155,
     "metadata": {},
     "output_type": "execute_result"
    }
   ],
   "source": [
    "clfKNN.fit(combined,target)"
   ]
  },
  {
   "cell_type": "code",
   "execution_count": 156,
   "metadata": {
    "collapsed": true
   },
   "outputs": [],
   "source": [
    "preds=clfKNN.predict(test)"
   ]
  },
  {
   "cell_type": "code",
   "execution_count": 157,
   "metadata": {},
   "outputs": [
    {
     "data": {
      "text/plain": [
       "0.794"
      ]
     },
     "execution_count": 157,
     "metadata": {},
     "output_type": "execute_result"
    }
   ],
   "source": [
    "accuracy_score(test_target, preds)"
   ]
  },
  {
   "cell_type": "code",
   "execution_count": null,
   "metadata": {
    "collapsed": true
   },
   "outputs": [],
   "source": []
  },
  {
   "cell_type": "code",
   "execution_count": 147,
   "metadata": {},
   "outputs": [
    {
     "ename": "ValueError",
     "evalue": "Input contains NaN, infinity or a value too large for dtype('float64').",
     "output_type": "error",
     "traceback": [
      "\u001b[0;31m---------------------------------------------------------------------------\u001b[0m",
      "\u001b[0;31mValueError\u001b[0m                                Traceback (most recent call last)",
      "\u001b[0;32m<ipython-input-147-a0ebd373118b>\u001b[0m in \u001b[0;36m<module>\u001b[0;34m()\u001b[0m\n\u001b[1;32m      7\u001b[0m \u001b[0mtime_start\u001b[0m \u001b[0;34m=\u001b[0m \u001b[0mtime\u001b[0m\u001b[0;34m.\u001b[0m\u001b[0mtime\u001b[0m\u001b[0;34m(\u001b[0m\u001b[0;34m)\u001b[0m\u001b[0;34m\u001b[0m\u001b[0m\n\u001b[1;32m      8\u001b[0m \u001b[0mtsne\u001b[0m \u001b[0;34m=\u001b[0m \u001b[0mTSNE\u001b[0m\u001b[0;34m(\u001b[0m\u001b[0mn_components\u001b[0m\u001b[0;34m=\u001b[0m\u001b[0;36m2\u001b[0m\u001b[0;34m,\u001b[0m \u001b[0mverbose\u001b[0m\u001b[0;34m=\u001b[0m\u001b[0;36m1\u001b[0m\u001b[0;34m,\u001b[0m \u001b[0mperplexity\u001b[0m\u001b[0;34m=\u001b[0m\u001b[0;36m40\u001b[0m\u001b[0;34m,\u001b[0m \u001b[0mn_iter\u001b[0m\u001b[0;34m=\u001b[0m\u001b[0;36m300\u001b[0m\u001b[0;34m)\u001b[0m\u001b[0;34m\u001b[0m\u001b[0m\n\u001b[0;32m----> 9\u001b[0;31m \u001b[0mtsne_results\u001b[0m \u001b[0;34m=\u001b[0m \u001b[0mtsne\u001b[0m\u001b[0;34m.\u001b[0m\u001b[0mfit_transform\u001b[0m\u001b[0;34m(\u001b[0m\u001b[0mcombined\u001b[0m\u001b[0;34m.\u001b[0m\u001b[0mloc\u001b[0m\u001b[0;34m[\u001b[0m\u001b[0mrndperm\u001b[0m\u001b[0;34m[\u001b[0m\u001b[0;34m:\u001b[0m\u001b[0mn_sne\u001b[0m\u001b[0;34m]\u001b[0m\u001b[0;34m,\u001b[0m\u001b[0;34m:\u001b[0m\u001b[0;34m]\u001b[0m\u001b[0;34m.\u001b[0m\u001b[0mvalues\u001b[0m\u001b[0;34m)\u001b[0m\u001b[0;34m\u001b[0m\u001b[0m\n\u001b[0m\u001b[1;32m     10\u001b[0m \u001b[0;34m\u001b[0m\u001b[0m\n\u001b[1;32m     11\u001b[0m \u001b[0;34m\u001b[0m\u001b[0m\n",
      "\u001b[0;32m/usr/local/lib/python2.7/dist-packages/sklearn/manifold/t_sne.pyc\u001b[0m in \u001b[0;36mfit_transform\u001b[0;34m(self, X, y)\u001b[0m\n\u001b[1;32m    882\u001b[0m             \u001b[0mEmbedding\u001b[0m \u001b[0mof\u001b[0m \u001b[0mthe\u001b[0m \u001b[0mtraining\u001b[0m \u001b[0mdata\u001b[0m \u001b[0;32min\u001b[0m \u001b[0mlow\u001b[0m\u001b[0;34m-\u001b[0m\u001b[0mdimensional\u001b[0m \u001b[0mspace\u001b[0m\u001b[0;34m.\u001b[0m\u001b[0;34m\u001b[0m\u001b[0m\n\u001b[1;32m    883\u001b[0m         \"\"\"\n\u001b[0;32m--> 884\u001b[0;31m         \u001b[0membedding\u001b[0m \u001b[0;34m=\u001b[0m \u001b[0mself\u001b[0m\u001b[0;34m.\u001b[0m\u001b[0m_fit\u001b[0m\u001b[0;34m(\u001b[0m\u001b[0mX\u001b[0m\u001b[0;34m)\u001b[0m\u001b[0;34m\u001b[0m\u001b[0m\n\u001b[0m\u001b[1;32m    885\u001b[0m         \u001b[0mself\u001b[0m\u001b[0;34m.\u001b[0m\u001b[0membedding_\u001b[0m \u001b[0;34m=\u001b[0m \u001b[0membedding\u001b[0m\u001b[0;34m\u001b[0m\u001b[0m\n\u001b[1;32m    886\u001b[0m         \u001b[0;32mreturn\u001b[0m \u001b[0mself\u001b[0m\u001b[0;34m.\u001b[0m\u001b[0membedding_\u001b[0m\u001b[0;34m\u001b[0m\u001b[0m\n",
      "\u001b[0;32m/usr/local/lib/python2.7/dist-packages/sklearn/manifold/t_sne.pyc\u001b[0m in \u001b[0;36m_fit\u001b[0;34m(self, X, skip_num_points)\u001b[0m\n\u001b[1;32m    705\u001b[0m         \u001b[0;32melse\u001b[0m\u001b[0;34m:\u001b[0m\u001b[0;34m\u001b[0m\u001b[0m\n\u001b[1;32m    706\u001b[0m             X = check_array(X, accept_sparse=['csr', 'csc', 'coo'],\n\u001b[0;32m--> 707\u001b[0;31m                             dtype=np.float64)\n\u001b[0m\u001b[1;32m    708\u001b[0m         \u001b[0mrandom_state\u001b[0m \u001b[0;34m=\u001b[0m \u001b[0mcheck_random_state\u001b[0m\u001b[0;34m(\u001b[0m\u001b[0mself\u001b[0m\u001b[0;34m.\u001b[0m\u001b[0mrandom_state\u001b[0m\u001b[0;34m)\u001b[0m\u001b[0;34m\u001b[0m\u001b[0m\n\u001b[1;32m    709\u001b[0m \u001b[0;34m\u001b[0m\u001b[0m\n",
      "\u001b[0;32m/usr/local/lib/python2.7/dist-packages/sklearn/utils/validation.pyc\u001b[0m in \u001b[0;36mcheck_array\u001b[0;34m(array, accept_sparse, dtype, order, copy, force_all_finite, ensure_2d, allow_nd, ensure_min_samples, ensure_min_features, warn_on_dtype, estimator)\u001b[0m\n\u001b[1;32m    405\u001b[0m                              % (array.ndim, estimator_name))\n\u001b[1;32m    406\u001b[0m         \u001b[0;32mif\u001b[0m \u001b[0mforce_all_finite\u001b[0m\u001b[0;34m:\u001b[0m\u001b[0;34m\u001b[0m\u001b[0m\n\u001b[0;32m--> 407\u001b[0;31m             \u001b[0m_assert_all_finite\u001b[0m\u001b[0;34m(\u001b[0m\u001b[0marray\u001b[0m\u001b[0;34m)\u001b[0m\u001b[0;34m\u001b[0m\u001b[0m\n\u001b[0m\u001b[1;32m    408\u001b[0m \u001b[0;34m\u001b[0m\u001b[0m\n\u001b[1;32m    409\u001b[0m     \u001b[0mshape_repr\u001b[0m \u001b[0;34m=\u001b[0m \u001b[0m_shape_repr\u001b[0m\u001b[0;34m(\u001b[0m\u001b[0marray\u001b[0m\u001b[0;34m.\u001b[0m\u001b[0mshape\u001b[0m\u001b[0;34m)\u001b[0m\u001b[0;34m\u001b[0m\u001b[0m\n",
      "\u001b[0;32m/usr/local/lib/python2.7/dist-packages/sklearn/utils/validation.pyc\u001b[0m in \u001b[0;36m_assert_all_finite\u001b[0;34m(X)\u001b[0m\n\u001b[1;32m     56\u001b[0m             and not np.isfinite(X).all()):\n\u001b[1;32m     57\u001b[0m         raise ValueError(\"Input contains NaN, infinity\"\n\u001b[0;32m---> 58\u001b[0;31m                          \" or a value too large for %r.\" % X.dtype)\n\u001b[0m\u001b[1;32m     59\u001b[0m \u001b[0;34m\u001b[0m\u001b[0m\n\u001b[1;32m     60\u001b[0m \u001b[0;34m\u001b[0m\u001b[0m\n",
      "\u001b[0;31mValueError\u001b[0m: Input contains NaN, infinity or a value too large for dtype('float64')."
     ]
    }
   ],
   "source": [
    "import time\n",
    "\n",
    "from sklearn.manifold import TSNE\n",
    "\n",
    "n_sne = 7000\n",
    "\n",
    "time_start = time.time()\n",
    "tsne = TSNE(n_components=2, verbose=1, perplexity=40, n_iter=300)\n",
    "tsne_results = tsne.fit_transform(combined.loc[rndperm[:n_sne],:].values)\n",
    "\n",
    "\n",
    "print 't-SNE done! Time elapsed: {} seconds'.format(time.time()-time_start)"
   ]
  },
  {
   "cell_type": "code",
   "execution_count": 27,
   "metadata": {
    "collapsed": true
   },
   "outputs": [],
   "source": [
    "target=combined['class']"
   ]
  },
  {
   "cell_type": "code",
   "execution_count": 28,
   "metadata": {
    "collapsed": true
   },
   "outputs": [],
   "source": [
    "test_target=test['class']"
   ]
  },
  {
   "cell_type": "code",
   "execution_count": 29,
   "metadata": {
    "collapsed": true
   },
   "outputs": [],
   "source": [
    "del combined['class']"
   ]
  },
  {
   "cell_type": "code",
   "execution_count": 30,
   "metadata": {
    "collapsed": true
   },
   "outputs": [],
   "source": [
    "del test['class']"
   ]
  },
  {
   "cell_type": "code",
   "execution_count": 31,
   "metadata": {},
   "outputs": [
    {
     "name": "stderr",
     "output_type": "stream",
     "text": [
      "/usr/local/lib/python2.7/dist-packages/sklearn/cross_validation.py:44: DeprecationWarning: This module was deprecated in version 0.18 in favor of the model_selection module into which all the refactored classes and functions are moved. Also note that the interface of the new CV iterators are different from that of this module. This module will be removed in 0.20.\n",
      "  \"This module will be removed in 0.20.\", DeprecationWarning)\n"
     ]
    }
   ],
   "source": [
    "import xgboost as xgb"
   ]
  },
  {
   "cell_type": "code",
   "execution_count": 32,
   "metadata": {
    "collapsed": true
   },
   "outputs": [],
   "source": [
    "params = {\n",
    "    'objective':'binary:logistic',\n",
    "    'eval_metric':'error',\n",
    "    'eta':0.025,\n",
    "    'max_depth':6,\n",
    "    'subsample':0.7,\n",
    "    'colsample_bytree':0.7,\n",
    "    'min_child_weight':5\n",
    "    \n",
    "}"
   ]
  },
  {
   "cell_type": "code",
   "execution_count": 33,
   "metadata": {
    "collapsed": true
   },
   "outputs": [],
   "source": [
    "dtrain = xgb.DMatrix(data=combined, label = target)\n",
    "dtest = xgb.DMatrix(data=test)"
   ]
  },
  {
   "cell_type": "code",
   "execution_count": 34,
   "metadata": {
    "collapsed": true
   },
   "outputs": [],
   "source": [
    "from sklearn.tree import DecisionTreeClassifier"
   ]
  },
  {
   "cell_type": "code",
   "execution_count": 35,
   "metadata": {
    "collapsed": true
   },
   "outputs": [],
   "source": [
    "clfDT=DecisionTreeClassifier()"
   ]
  },
  {
   "cell_type": "code",
   "execution_count": 36,
   "metadata": {},
   "outputs": [
    {
     "data": {
      "text/plain": [
       "DecisionTreeClassifier(class_weight=None, criterion='gini', max_depth=None,\n",
       "            max_features=None, max_leaf_nodes=None,\n",
       "            min_impurity_split=1e-07, min_samples_leaf=1,\n",
       "            min_samples_split=2, min_weight_fraction_leaf=0.0,\n",
       "            presort=False, random_state=None, splitter='best')"
      ]
     },
     "execution_count": 36,
     "metadata": {},
     "output_type": "execute_result"
    }
   ],
   "source": [
    "clfDT.fit(combined,target)"
   ]
  },
  {
   "cell_type": "code",
   "execution_count": 37,
   "metadata": {
    "collapsed": true
   },
   "outputs": [],
   "source": [
    "predsDT=clfDT.predict(test)"
   ]
  },
  {
   "cell_type": "code",
   "execution_count": 38,
   "metadata": {},
   "outputs": [
    {
     "data": {
      "text/plain": [
       "0.886"
      ]
     },
     "execution_count": 38,
     "metadata": {},
     "output_type": "execute_result"
    }
   ],
   "source": [
    "from sklearn.metrics import accuracy_score\n",
    "accuracy_score(test_target, predsDT)"
   ]
  },
  {
   "cell_type": "code",
   "execution_count": 39,
   "metadata": {
    "collapsed": true
   },
   "outputs": [],
   "source": [
    "from sklearn.neural_network import MLPClassifier"
   ]
  },
  {
   "cell_type": "code",
   "execution_count": 40,
   "metadata": {
    "collapsed": true
   },
   "outputs": [],
   "source": [
    "clfNN=MLPClassifier(hidden_layer_sizes=(200,),max_iter=400,verbose=True,tol=-10.0,learning_rate='adaptive')"
   ]
  },
  {
   "cell_type": "code",
   "execution_count": 41,
   "metadata": {},
   "outputs": [
    {
     "name": "stdout",
     "output_type": "stream",
     "text": [
      "Iteration 1, loss = 1.58759313\n",
      "Iteration 2, loss = 1.35301122\n",
      "Iteration 3, loss = 2.11668370\n",
      "Iteration 4, loss = 1.03650631\n",
      "Iteration 5, loss = 1.19425766\n",
      "Iteration 6, loss = 0.83641083\n",
      "Iteration 7, loss = 1.16197879\n",
      "Iteration 8, loss = 0.80525924\n",
      "Iteration 9, loss = 0.93328190\n",
      "Iteration 10, loss = 0.90594507\n",
      "Iteration 11, loss = 0.84750015\n",
      "Iteration 12, loss = 0.53663855\n",
      "Iteration 13, loss = 1.21732548\n",
      "Iteration 14, loss = 1.00494047\n",
      "Iteration 15, loss = 0.66604041\n",
      "Iteration 16, loss = 0.55194690\n",
      "Iteration 17, loss = 1.74723583\n",
      "Iteration 18, loss = 1.42147565\n",
      "Iteration 19, loss = 0.71321339\n",
      "Iteration 20, loss = 0.65258402\n",
      "Iteration 21, loss = 0.75714365\n",
      "Iteration 22, loss = 0.43828070\n",
      "Iteration 23, loss = 0.36667185\n",
      "Iteration 24, loss = 0.79027107\n",
      "Iteration 25, loss = 0.48687409\n",
      "Iteration 26, loss = 0.39156364\n",
      "Iteration 27, loss = 0.61887717\n",
      "Iteration 28, loss = 0.82057921\n",
      "Iteration 29, loss = 0.55673586\n",
      "Iteration 30, loss = 0.28795303\n",
      "Iteration 31, loss = 0.53385082\n",
      "Iteration 32, loss = 0.56365292\n",
      "Iteration 33, loss = 0.78389448\n",
      "Iteration 34, loss = 1.00480244\n",
      "Iteration 35, loss = 0.51088790\n",
      "Iteration 36, loss = 1.05019162\n",
      "Iteration 37, loss = 0.71148449\n",
      "Iteration 38, loss = 1.34307311\n",
      "Iteration 39, loss = 0.62959437\n",
      "Iteration 40, loss = 0.58446005\n",
      "Iteration 41, loss = 0.69350365\n",
      "Iteration 42, loss = 0.64527235\n",
      "Iteration 43, loss = 0.73020329\n",
      "Iteration 44, loss = 0.67235448\n",
      "Iteration 45, loss = 0.54680381\n",
      "Iteration 46, loss = 0.34626095\n",
      "Iteration 47, loss = 1.53249694\n",
      "Iteration 48, loss = 0.92423120\n",
      "Iteration 49, loss = 0.39829316\n",
      "Iteration 50, loss = 0.32752870\n",
      "Iteration 51, loss = 0.39958529\n",
      "Iteration 52, loss = 0.56720640\n",
      "Iteration 53, loss = 0.37048056\n",
      "Iteration 54, loss = 0.32046743\n",
      "Iteration 55, loss = 0.27558841\n",
      "Iteration 56, loss = 0.51447358\n",
      "Iteration 57, loss = 0.47491853\n",
      "Iteration 58, loss = 0.36107803\n",
      "Iteration 59, loss = 0.67991527\n",
      "Iteration 60, loss = 0.42582635\n",
      "Iteration 61, loss = 0.42904191\n",
      "Iteration 62, loss = 0.24548625\n",
      "Iteration 63, loss = 0.34252439\n",
      "Iteration 64, loss = 0.31445597\n",
      "Iteration 65, loss = 0.60054130\n",
      "Iteration 66, loss = 0.26824876\n",
      "Iteration 67, loss = 0.61596633\n",
      "Iteration 68, loss = 0.24518860\n",
      "Iteration 69, loss = 0.23693370\n",
      "Iteration 70, loss = 1.07837155\n",
      "Iteration 71, loss = 0.59497445\n",
      "Iteration 72, loss = 0.24799817\n",
      "Iteration 73, loss = 0.38401360\n",
      "Iteration 74, loss = 0.22776066\n",
      "Iteration 75, loss = 0.37901214\n",
      "Iteration 76, loss = 0.22872168\n",
      "Iteration 77, loss = 0.36074713\n",
      "Iteration 78, loss = 0.24167693\n",
      "Iteration 79, loss = 1.64604154\n",
      "Iteration 80, loss = 0.28687642\n",
      "Iteration 81, loss = 0.24290872\n",
      "Iteration 82, loss = 0.36004528\n",
      "Iteration 83, loss = 0.26426990\n",
      "Iteration 84, loss = 0.41924974\n",
      "Iteration 85, loss = 0.44333235\n",
      "Iteration 86, loss = 0.34400689\n",
      "Iteration 87, loss = 0.23335249\n",
      "Iteration 88, loss = 0.72516181\n",
      "Iteration 89, loss = 1.15810968\n",
      "Iteration 90, loss = 0.80696745\n",
      "Iteration 91, loss = 0.46764577\n",
      "Iteration 92, loss = 0.31322909\n",
      "Iteration 93, loss = 0.27153157\n",
      "Iteration 94, loss = 0.22313720\n",
      "Iteration 95, loss = 1.73768100\n",
      "Iteration 96, loss = 1.03458295\n",
      "Iteration 97, loss = 0.80253163\n",
      "Iteration 98, loss = 0.60015345\n",
      "Iteration 99, loss = 0.58441070\n",
      "Iteration 100, loss = 0.39625191\n",
      "Iteration 101, loss = 0.28363477\n",
      "Iteration 102, loss = 0.80884346\n",
      "Iteration 103, loss = 0.38652986\n",
      "Iteration 104, loss = 0.60401038\n",
      "Iteration 105, loss = 0.82361709\n",
      "Iteration 106, loss = 0.25508588\n",
      "Iteration 107, loss = 0.50505896\n",
      "Iteration 108, loss = 0.47826791\n",
      "Iteration 109, loss = 0.30016571\n",
      "Iteration 110, loss = 0.77277180\n",
      "Iteration 111, loss = 0.66823785\n",
      "Iteration 112, loss = 0.63318056\n",
      "Iteration 113, loss = 0.26192404\n",
      "Iteration 114, loss = 0.39881631\n",
      "Iteration 115, loss = 0.51050346\n",
      "Iteration 116, loss = 0.25658676\n",
      "Iteration 117, loss = 0.28182398\n",
      "Iteration 118, loss = 1.40957485\n",
      "Iteration 119, loss = 0.73765025\n",
      "Iteration 120, loss = 0.93964039\n",
      "Iteration 121, loss = 0.32273466\n",
      "Iteration 122, loss = 0.31641412\n",
      "Iteration 123, loss = 0.27277348\n",
      "Iteration 124, loss = 0.22678252\n",
      "Iteration 125, loss = 1.77052380\n",
      "Iteration 126, loss = 0.78741893\n",
      "Iteration 127, loss = 0.37877101\n",
      "Iteration 128, loss = 0.30353746\n",
      "Iteration 129, loss = 0.28349303\n",
      "Iteration 130, loss = 0.32048907\n",
      "Iteration 131, loss = 0.73750629\n",
      "Iteration 132, loss = 0.57416110\n",
      "Iteration 133, loss = 0.78434935\n",
      "Iteration 134, loss = 0.32667101\n",
      "Iteration 135, loss = 0.35745748\n",
      "Iteration 136, loss = 0.29511361\n",
      "Iteration 137, loss = 0.30499505\n",
      "Iteration 138, loss = 0.39957049\n",
      "Iteration 139, loss = 0.54114002\n",
      "Iteration 140, loss = 0.47215448\n",
      "Iteration 141, loss = 0.37375133\n",
      "Iteration 142, loss = 0.37257621\n",
      "Iteration 143, loss = 0.34080750\n",
      "Iteration 144, loss = 1.04916319\n",
      "Iteration 145, loss = 0.53059592\n",
      "Iteration 146, loss = 0.31989393\n",
      "Iteration 147, loss = 0.28440571\n",
      "Iteration 148, loss = 0.31369744\n",
      "Iteration 149, loss = 0.31418880\n",
      "Iteration 150, loss = 0.27784625\n",
      "Iteration 151, loss = 0.55425859\n",
      "Iteration 152, loss = 0.27123719\n",
      "Iteration 153, loss = 0.61233910\n",
      "Iteration 154, loss = 0.33111397\n",
      "Iteration 155, loss = 0.32808452\n",
      "Iteration 156, loss = 0.78102203\n",
      "Iteration 157, loss = 1.65679715\n",
      "Iteration 158, loss = 1.08237871\n",
      "Iteration 159, loss = 0.72994580\n",
      "Iteration 160, loss = 0.48028419\n",
      "Iteration 161, loss = 0.36938107\n",
      "Iteration 162, loss = 0.89088646\n",
      "Iteration 163, loss = 1.54099739\n",
      "Iteration 164, loss = 0.59805843\n",
      "Iteration 165, loss = 0.55364208\n",
      "Iteration 166, loss = 1.68082328\n",
      "Iteration 167, loss = 0.43143001\n",
      "Iteration 168, loss = 0.58744979\n",
      "Iteration 169, loss = 0.40856149\n",
      "Iteration 170, loss = 0.35464046\n",
      "Iteration 171, loss = 0.37340770\n",
      "Iteration 172, loss = 0.30654108\n",
      "Iteration 173, loss = 0.43481224\n",
      "Iteration 174, loss = 0.34162879\n",
      "Iteration 175, loss = 0.53360926\n",
      "Iteration 176, loss = 0.38984877\n",
      "Iteration 177, loss = 0.75409095\n",
      "Iteration 178, loss = 0.31762743\n",
      "Iteration 179, loss = 1.01917334\n",
      "Iteration 180, loss = 0.35069576\n",
      "Iteration 181, loss = 0.56258068\n",
      "Iteration 182, loss = 0.54402284\n",
      "Iteration 183, loss = 0.63796242\n",
      "Iteration 184, loss = 0.55847442\n",
      "Iteration 185, loss = 0.37303104\n",
      "Iteration 186, loss = 0.40165350\n",
      "Iteration 187, loss = 0.65615488\n",
      "Iteration 188, loss = 1.24774360\n",
      "Iteration 189, loss = 0.72604225\n",
      "Iteration 190, loss = 0.66008258\n",
      "Iteration 191, loss = 0.83203456\n",
      "Iteration 192, loss = 0.71372599\n",
      "Iteration 193, loss = 0.37522890\n",
      "Iteration 194, loss = 0.48000357\n",
      "Iteration 195, loss = 0.70546695\n",
      "Iteration 196, loss = 0.59476062\n",
      "Iteration 197, loss = 0.67206897\n",
      "Iteration 198, loss = 0.46773422\n",
      "Iteration 199, loss = 0.71764157\n",
      "Iteration 200, loss = 0.38905869\n",
      "Iteration 201, loss = 0.36525269\n",
      "Iteration 202, loss = 0.74667166\n",
      "Iteration 203, loss = 0.92028579\n",
      "Iteration 204, loss = 0.43446637\n",
      "Iteration 205, loss = 0.68308939\n",
      "Iteration 206, loss = 0.34257077\n",
      "Iteration 207, loss = 0.33294556\n",
      "Iteration 208, loss = 0.41728708\n",
      "Iteration 209, loss = 1.15017083\n",
      "Iteration 210, loss = 0.40401362\n",
      "Iteration 211, loss = 0.40251738\n",
      "Iteration 212, loss = 0.67720679\n",
      "Iteration 213, loss = 0.40805216\n",
      "Iteration 214, loss = 0.29219221\n",
      "Iteration 215, loss = 0.38144638\n",
      "Iteration 216, loss = 0.33139278\n",
      "Iteration 217, loss = 0.69673116\n",
      "Iteration 218, loss = 0.29612598\n",
      "Iteration 219, loss = 0.39615347\n",
      "Iteration 220, loss = 0.29255366\n",
      "Iteration 221, loss = 0.33847003\n",
      "Iteration 222, loss = 0.62447196\n",
      "Iteration 223, loss = 0.66129183\n",
      "Iteration 224, loss = 1.06693461\n",
      "Iteration 225, loss = 0.31705626\n",
      "Iteration 226, loss = 0.28676199\n",
      "Iteration 227, loss = 0.85530417\n",
      "Iteration 228, loss = 0.29544009\n",
      "Iteration 229, loss = 0.35194901\n",
      "Iteration 230, loss = 0.37691184\n",
      "Iteration 231, loss = 0.49734081\n",
      "Iteration 232, loss = 0.28833090\n",
      "Iteration 233, loss = 0.42587715\n",
      "Iteration 234, loss = 0.38526182\n",
      "Iteration 235, loss = 0.44283773\n",
      "Iteration 236, loss = 0.27013887\n",
      "Iteration 237, loss = 0.27239843\n",
      "Iteration 238, loss = 0.74450767\n",
      "Iteration 239, loss = 0.35819964\n",
      "Iteration 240, loss = 0.82585581\n",
      "Iteration 241, loss = 0.28995518\n",
      "Iteration 242, loss = 0.71322330\n",
      "Iteration 243, loss = 0.36889970\n",
      "Iteration 244, loss = 0.43186977\n",
      "Iteration 245, loss = 0.29125734\n",
      "Iteration 246, loss = 0.42060897\n",
      "Iteration 247, loss = 0.85394352\n",
      "Iteration 248, loss = 0.78979158\n",
      "Iteration 249, loss = 0.80726966\n",
      "Iteration 250, loss = 0.50722396\n",
      "Iteration 251, loss = 0.31553269\n",
      "Iteration 252, loss = 0.33641081\n"
     ]
    },
    {
     "name": "stdout",
     "output_type": "stream",
     "text": [
      "Iteration 253, loss = 1.12574931\n",
      "Iteration 254, loss = 0.53164980\n",
      "Iteration 255, loss = 0.42168021\n",
      "Iteration 256, loss = 0.38182585\n",
      "Iteration 257, loss = 0.59677503\n",
      "Iteration 258, loss = 0.50624362\n",
      "Iteration 259, loss = 0.36448538\n",
      "Iteration 260, loss = 0.58781224\n",
      "Iteration 261, loss = 0.44344684\n",
      "Iteration 262, loss = 0.32702754\n",
      "Iteration 263, loss = 0.62348160\n",
      "Iteration 264, loss = 0.33418923\n",
      "Iteration 265, loss = 0.75197920\n",
      "Iteration 266, loss = 0.30336712\n",
      "Iteration 267, loss = 0.36360220\n",
      "Iteration 268, loss = 0.68821893\n",
      "Iteration 269, loss = 0.28518905\n",
      "Iteration 270, loss = 0.28412042\n",
      "Iteration 271, loss = 0.34747149\n",
      "Iteration 272, loss = 0.82568689\n",
      "Iteration 273, loss = 0.31633458\n",
      "Iteration 274, loss = 0.62598308\n",
      "Iteration 275, loss = 0.60682798\n",
      "Iteration 276, loss = 0.40576777\n",
      "Iteration 277, loss = 0.40097750\n",
      "Iteration 278, loss = 0.30982826\n",
      "Iteration 279, loss = 0.44965450\n",
      "Iteration 280, loss = 0.80164588\n",
      "Iteration 281, loss = 0.33345354\n",
      "Iteration 282, loss = 0.54669804\n",
      "Iteration 283, loss = 0.29685307\n",
      "Iteration 284, loss = 0.29258567\n",
      "Iteration 285, loss = 0.26611651\n",
      "Iteration 286, loss = 0.27918559\n",
      "Iteration 287, loss = 0.34402267\n",
      "Iteration 288, loss = 0.51023499\n",
      "Iteration 289, loss = 0.29239149\n",
      "Iteration 290, loss = 0.30503877\n",
      "Iteration 291, loss = 0.49924285\n",
      "Iteration 292, loss = 0.32684689\n",
      "Iteration 293, loss = 0.51224939\n",
      "Iteration 294, loss = 0.26709324\n",
      "Iteration 295, loss = 0.43735387\n",
      "Iteration 296, loss = 0.64932865\n",
      "Iteration 297, loss = 0.28157939\n",
      "Iteration 298, loss = 0.31734611\n",
      "Iteration 299, loss = 0.39940416\n",
      "Iteration 300, loss = 1.30984807\n",
      "Iteration 301, loss = 0.31394627\n",
      "Iteration 302, loss = 0.27114019\n",
      "Iteration 303, loss = 0.37038825\n",
      "Iteration 304, loss = 0.27910758\n",
      "Iteration 305, loss = 0.26074951\n",
      "Iteration 306, loss = 0.31466131\n",
      "Iteration 307, loss = 0.22912510\n",
      "Iteration 308, loss = 0.55405695\n",
      "Iteration 309, loss = 0.40276678\n",
      "Iteration 310, loss = 0.23461564\n",
      "Iteration 311, loss = 0.30958767\n",
      "Iteration 312, loss = 0.33796615\n",
      "Iteration 313, loss = 0.55672145\n",
      "Iteration 314, loss = 0.37380123\n",
      "Iteration 315, loss = 0.29983122\n",
      "Iteration 316, loss = 0.23771512\n",
      "Iteration 317, loss = 0.74936509\n",
      "Iteration 318, loss = 0.27889450\n",
      "Iteration 319, loss = 0.32015912\n",
      "Iteration 320, loss = 0.24625894\n",
      "Iteration 321, loss = 0.48846471\n",
      "Iteration 322, loss = 0.54094933\n",
      "Iteration 323, loss = 0.25230551\n",
      "Iteration 324, loss = 0.48435044\n",
      "Iteration 325, loss = 0.30346883\n",
      "Iteration 326, loss = 0.29028597\n",
      "Iteration 327, loss = 0.22157640\n",
      "Iteration 328, loss = 0.73318754\n",
      "Iteration 329, loss = 0.40574467\n",
      "Iteration 330, loss = 0.32338914\n",
      "Iteration 331, loss = 0.33418042\n",
      "Iteration 332, loss = 0.96854541\n",
      "Iteration 333, loss = 0.22690440\n",
      "Iteration 334, loss = 0.27917986\n",
      "Iteration 335, loss = 0.27548701\n",
      "Iteration 336, loss = 0.24491207\n",
      "Iteration 337, loss = 0.26323994\n",
      "Iteration 338, loss = 0.62861460\n",
      "Iteration 339, loss = 0.27579204\n",
      "Iteration 340, loss = 1.02893629\n",
      "Iteration 341, loss = 0.36346683\n",
      "Iteration 342, loss = 0.32471471\n",
      "Iteration 343, loss = 0.23521832\n",
      "Iteration 344, loss = 0.21566192\n",
      "Iteration 345, loss = 0.35466798\n",
      "Iteration 346, loss = 0.28506816\n",
      "Iteration 347, loss = 0.23742363\n",
      "Iteration 348, loss = 0.24292352\n",
      "Iteration 349, loss = 0.32895190\n",
      "Iteration 350, loss = 0.65508581\n",
      "Iteration 351, loss = 0.82014124\n",
      "Iteration 352, loss = 0.65582665\n",
      "Iteration 353, loss = 0.31254871\n",
      "Iteration 354, loss = 0.28303116\n",
      "Iteration 355, loss = 0.27199004\n",
      "Iteration 356, loss = 0.35608774\n",
      "Iteration 357, loss = 0.80335823\n",
      "Iteration 358, loss = 0.26373528\n",
      "Iteration 359, loss = 0.27077353\n",
      "Iteration 360, loss = 0.67743501\n",
      "Iteration 361, loss = 0.47385663\n",
      "Iteration 362, loss = 0.35653505\n",
      "Iteration 363, loss = 0.73497603\n",
      "Iteration 364, loss = 0.65670568\n",
      "Iteration 365, loss = 0.25749934\n",
      "Iteration 366, loss = 0.46101134\n",
      "Iteration 367, loss = 0.40068288\n",
      "Iteration 368, loss = 0.29317118\n",
      "Iteration 369, loss = 0.50178975\n",
      "Iteration 370, loss = 0.38700572\n",
      "Iteration 371, loss = 0.31351424\n",
      "Iteration 372, loss = 0.27939675\n",
      "Iteration 373, loss = 0.31449675\n",
      "Iteration 374, loss = 0.19954589\n",
      "Iteration 375, loss = 0.63803892\n",
      "Iteration 376, loss = 0.25233816\n",
      "Iteration 377, loss = 0.26914114\n",
      "Iteration 378, loss = 0.28253420\n",
      "Iteration 379, loss = 0.55401738\n",
      "Iteration 380, loss = 0.28952827\n",
      "Iteration 381, loss = 0.76163516\n",
      "Iteration 382, loss = 0.91052732\n",
      "Iteration 383, loss = 0.29623099\n",
      "Iteration 384, loss = 0.25489171\n",
      "Iteration 385, loss = 0.49745905\n",
      "Iteration 386, loss = 0.24389939\n",
      "Iteration 387, loss = 0.23962800\n",
      "Iteration 388, loss = 0.23212395\n",
      "Iteration 389, loss = 0.28646649\n",
      "Iteration 390, loss = 0.20961835\n",
      "Iteration 391, loss = 0.72920885\n",
      "Iteration 392, loss = 0.22581699\n",
      "Iteration 393, loss = 0.46914601\n",
      "Iteration 394, loss = 0.48305366\n",
      "Iteration 395, loss = 0.24872830\n",
      "Iteration 396, loss = 0.24445046\n",
      "Iteration 397, loss = 0.24572554\n",
      "Iteration 398, loss = 0.21876493\n",
      "Iteration 399, loss = 0.24314597\n",
      "Iteration 400, loss = 0.33071502\n"
     ]
    },
    {
     "name": "stderr",
     "output_type": "stream",
     "text": [
      "/usr/local/lib/python2.7/dist-packages/sklearn/neural_network/multilayer_perceptron.py:563: ConvergenceWarning: Stochastic Optimizer: Maximum iterations reached and the optimization hasn't converged yet.\n",
      "  % (), ConvergenceWarning)\n"
     ]
    },
    {
     "data": {
      "text/plain": [
       "MLPClassifier(activation='relu', alpha=0.0001, batch_size='auto', beta_1=0.9,\n",
       "       beta_2=0.999, early_stopping=False, epsilon=1e-08,\n",
       "       hidden_layer_sizes=(200,), learning_rate='adaptive',\n",
       "       learning_rate_init=0.001, max_iter=400, momentum=0.9,\n",
       "       nesterovs_momentum=True, power_t=0.5, random_state=None,\n",
       "       shuffle=True, solver='adam', tol=-10.0, validation_fraction=0.1,\n",
       "       verbose=True, warm_start=False)"
      ]
     },
     "execution_count": 41,
     "metadata": {},
     "output_type": "execute_result"
    }
   ],
   "source": [
    "clfNN.fit(combined,target)"
   ]
  },
  {
   "cell_type": "code",
   "execution_count": 45,
   "metadata": {
    "collapsed": true
   },
   "outputs": [],
   "source": [
    "predsNN=clfNN.predict(test)"
   ]
  },
  {
   "cell_type": "code",
   "execution_count": 46,
   "metadata": {},
   "outputs": [
    {
     "data": {
      "text/plain": [
       "0.947"
      ]
     },
     "execution_count": 46,
     "metadata": {},
     "output_type": "execute_result"
    }
   ],
   "source": [
    "accuracy_score(test_target, predsNN)"
   ]
  },
  {
   "cell_type": "code",
   "execution_count": null,
   "metadata": {
    "collapsed": true
   },
   "outputs": [],
   "source": []
  },
  {
   "cell_type": "code",
   "execution_count": null,
   "metadata": {
    "collapsed": true
   },
   "outputs": [],
   "source": []
  },
  {
   "cell_type": "code",
   "execution_count": null,
   "metadata": {
    "collapsed": true
   },
   "outputs": [],
   "source": []
  },
  {
   "cell_type": "code",
   "execution_count": null,
   "metadata": {
    "collapsed": true
   },
   "outputs": [],
   "source": []
  },
  {
   "cell_type": "code",
   "execution_count": null,
   "metadata": {
    "collapsed": true
   },
   "outputs": [],
   "source": []
  },
  {
   "cell_type": "code",
   "execution_count": null,
   "metadata": {
    "collapsed": true
   },
   "outputs": [],
   "source": []
  },
  {
   "cell_type": "code",
   "execution_count": 42,
   "metadata": {},
   "outputs": [
    {
     "name": "stdout",
     "output_type": "stream",
     "text": [
      "[0]\ttrain-error:0.124712+0.0021818\ttest-error:0.132149+0.0058493\n",
      "[10]\ttrain-error:0.105487+0.00103256\ttest-error:0.112416+0.00459754\n",
      "[20]\ttrain-error:0.103476+0.00123043\ttest-error:0.109472+0.00484064\n",
      "[30]\ttrain-error:0.10173+0.00124781\ttest-error:0.107741+0.00413081\n",
      "[40]\ttrain-error:0.100121+0.00145474\ttest-error:0.106254+0.00433071\n",
      "[50]\ttrain-error:0.0983076+0.00104851\ttest-error:0.104584+0.00337093\n",
      "[60]\ttrain-error:0.0970096+0.000927798\ttest-error:0.103795+0.00424835\n",
      "[70]\ttrain-error:0.0961598+0.000774463\ttest-error:0.10252+0.0037459\n",
      "[80]\ttrain-error:0.0953626+0.00073214\ttest-error:0.101943+0.00395425\n",
      "[90]\ttrain-error:0.094361+0.000669028\ttest-error:0.10167+0.00395618\n",
      "[100]\ttrain-error:0.0935186+0.000796304\ttest-error:0.101032+0.00412336\n",
      "[110]\ttrain-error:0.092752+0.00053284\ttest-error:0.100698+0.00382754\n",
      "[120]\ttrain-error:0.0921374+0.000698448\ttest-error:0.1+0.00411507\n",
      "[130]\ttrain-error:0.0911048+0.000718959\ttest-error:0.0992714+0.00406491\n",
      "[140]\ttrain-error:0.0898604+0.000714998\ttest-error:0.0983608+0.003915\n",
      "[150]\ttrain-error:0.0890258+0.000848212\ttest-error:0.0970858+0.00383469\n",
      "[160]\ttrain-error:0.0880692+0.000799343\ttest-error:0.0965392+0.00405586\n",
      "[170]\ttrain-error:0.0873254+0.000849701\ttest-error:0.0956286+0.00372435\n",
      "[180]\ttrain-error:0.0866044+0.00070748\ttest-error:0.0945962+0.00357048\n",
      "[190]\ttrain-error:0.0855572+0.000690389\ttest-error:0.0941408+0.00380315\n",
      "[200]\ttrain-error:0.0844036+0.000774495\ttest-error:0.0935942+0.00393344\n",
      "[210]\ttrain-error:0.0833108+0.000727053\ttest-error:0.0925622+0.00411185\n",
      "[220]\ttrain-error:0.0824986+0.00067152\ttest-error:0.0918338+0.00412124\n",
      "[230]\ttrain-error:0.081383+0.000550786\ttest-error:0.0911354+0.00426811\n",
      "[240]\ttrain-error:0.0804112+0.000387546\ttest-error:0.0903764+0.00406034\n",
      "[250]\ttrain-error:0.0795158+0.00031257\ttest-error:0.0891014+0.00427731\n",
      "[260]\ttrain-error:0.0785594+0.000543832\ttest-error:0.0883728+0.00404488\n",
      "[270]\ttrain-error:0.0775654+0.000918544\ttest-error:0.0875836+0.00430309\n",
      "[280]\ttrain-error:0.0766774+0.000922342\ttest-error:0.0869156+0.00412977\n",
      "[290]\ttrain-error:0.075668+0.000946635\ttest-error:0.085762+0.00420556\n",
      "[300]\ttrain-error:0.0746356+0.000775947\ttest-error:0.0850638+0.00454103\n",
      "[310]\ttrain-error:0.0738312+0.00080282\ttest-error:0.0843654+0.0047898\n",
      "[320]\ttrain-error:0.0726776+0.00113527\ttest-error:0.0836064+0.00519059\n",
      "[330]\ttrain-error:0.0716302+0.00100292\ttest-error:0.0827262+0.00478486\n",
      "[340]\ttrain-error:0.0707424+0.00097963\ttest-error:0.0824228+0.00489966\n",
      "[350]\ttrain-error:0.0698088+0.00118588\ttest-error:0.0814814+0.00497028\n",
      "[360]\ttrain-error:0.0689208+0.00112052\ttest-error:0.0807832+0.00496191\n",
      "[370]\ttrain-error:0.0677368+0.00102245\ttest-error:0.0802674+0.00492082\n",
      "[380]\ttrain-error:0.066864+0.000996343\ttest-error:0.0794778+0.00493432\n",
      "[390]\ttrain-error:0.0658394+0.000907833\ttest-error:0.0792044+0.00475701\n",
      "[400]\ttrain-error:0.0646478+0.00112652\ttest-error:0.0782332+0.00469004\n",
      "[410]\ttrain-error:0.0638738+0.00111317\ttest-error:0.0778386+0.00425379\n",
      "[420]\ttrain-error:0.0630918+0.00127834\ttest-error:0.0773224+0.00431959\n",
      "[430]\ttrain-error:0.0621738+0.00121394\ttest-error:0.0768976+0.00398679\n",
      "[440]\ttrain-error:0.0609898+0.00113039\ttest-error:0.075926+0.00429047\n",
      "[450]\ttrain-error:0.0602534+0.00106108\ttest-error:0.0755008+0.00418305\n",
      "[460]\ttrain-error:0.059358+0.0010469\ttest-error:0.0752886+0.00421858\n",
      "[470]\ttrain-error:0.058303+0.00110071\ttest-error:0.074651+0.00420379\n",
      "[480]\ttrain-error:0.057696+0.000909791\ttest-error:0.0740436+0.00421141\n",
      "[490]\ttrain-error:0.0569748+0.00100939\ttest-error:0.073892+0.00416419\n",
      "[500]\ttrain-error:0.0560714+0.000912909\ttest-error:0.0730418+0.00366867\n",
      "[510]\ttrain-error:0.0555098+0.000999257\ttest-error:0.0725866+0.00366978\n",
      "[520]\ttrain-error:0.0547814+0.000949785\ttest-error:0.0718274+0.00347661\n",
      "[530]\ttrain-error:0.0540376+0.000973572\ttest-error:0.0712812+0.0034782\n",
      "[540]\ttrain-error:0.053203+0.0010001\ttest-error:0.0707956+0.00371773\n",
      "[550]\ttrain-error:0.0526334+0.00109515\ttest-error:0.0703704+0.00365141\n",
      "[560]\ttrain-error:0.0519808+0.00106846\ttest-error:0.0703402+0.00391231\n",
      "[570]\ttrain-error:0.0514648+0.000982277\ttest-error:0.0699756+0.00385561\n",
      "[580]\ttrain-error:0.0506602+0.00107028\ttest-error:0.0694596+0.00369048\n",
      "[590]\ttrain-error:0.0500756+0.00120346\ttest-error:0.069065+0.00386404\n",
      "[600]\ttrain-error:0.049317+0.00103117\ttest-error:0.068549+0.00403516\n",
      "[610]\ttrain-error:0.048778+0.00089217\ttest-error:0.067972+0.00368256\n",
      "[620]\ttrain-error:0.0481102+0.000768276\ttest-error:0.0673042+0.00395881\n",
      "[630]\ttrain-error:0.0473436+0.000740063\ttest-error:0.06694+0.00361988\n",
      "[640]\ttrain-error:0.0466682+0.000780952\ttest-error:0.0663936+0.00385294\n",
      "[650]\ttrain-error:0.04597+0.000791836\ttest-error:0.0662718+0.00373152\n",
      "[660]\ttrain-error:0.045317+0.000956044\ttest-error:0.0656952+0.00376432\n",
      "[670]\ttrain-error:0.0445734+0.000993815\ttest-error:0.0653918+0.00374428\n",
      "[680]\ttrain-error:0.0439588+0.000917465\ttest-error:0.064997+0.00352401\n",
      "[690]\ttrain-error:0.0432758+0.000970035\ttest-error:0.0646328+0.00350946\n",
      "[700]\ttrain-error:0.042509+0.00105732\ttest-error:0.0644506+0.00366039\n",
      "[710]\ttrain-error:0.041955+0.000922698\ttest-error:0.0641468+0.00350983\n",
      "[720]\ttrain-error:0.041363+0.000954964\ttest-error:0.063965+0.00344222\n",
      "[730]\ttrain-error:0.0407334+0.000887945\ttest-error:0.0637524+0.0036267\n",
      "[740]\ttrain-error:0.0401794+0.000871076\ttest-error:0.0629936+0.00359715\n",
      "[750]\ttrain-error:0.0395112+0.000965228\ttest-error:0.0627504+0.00365364\n",
      "[760]\ttrain-error:0.0389724+0.000951097\ttest-error:0.062204+0.00365611\n",
      "[770]\ttrain-error:0.0385472+0.00086952\ttest-error:0.061961+0.00377628\n",
      "[780]\ttrain-error:0.0377502+0.000647211\ttest-error:0.0613236+0.00396393\n",
      "[790]\ttrain-error:0.0371886+0.000686164\ttest-error:0.0608986+0.00396346\n",
      "[800]\ttrain-error:0.036726+0.000717182\ttest-error:0.0603522+0.00389101\n",
      "[810]\ttrain-error:0.036149+0.000655521\ttest-error:0.0602916+0.00395647\n",
      "[820]\ttrain-error:0.035519+0.000685455\ttest-error:0.060079+0.00391053\n",
      "[830]\ttrain-error:0.035026+0.000724701\ttest-error:0.0599272+0.00385834\n",
      "[840]\ttrain-error:0.0343504+0.00072481\ttest-error:0.0596538+0.00367815\n",
      "[850]\ttrain-error:0.0339254+0.00066331\ttest-error:0.0591986+0.00346255\n",
      "[860]\ttrain-error:0.0333864+0.000653535\ttest-error:0.058986+0.00365626\n",
      "[870]\ttrain-error:0.0330372+0.00072187\ttest-error:0.0586822+0.00372383\n",
      "[880]\ttrain-error:0.032559+0.000626094\ttest-error:0.0583484+0.00384296\n",
      "[890]\ttrain-error:0.031929+0.000686465\ttest-error:0.0580146+0.00412075\n",
      "[900]\ttrain-error:0.0315118+0.000632622\ttest-error:0.0577716+0.00396147\n",
      "[910]\ttrain-error:0.0310108+0.000791354\ttest-error:0.0577414+0.00388977\n",
      "[920]\ttrain-error:0.0306694+0.000764332\ttest-error:0.0574074+0.00394685\n",
      "[930]\ttrain-error:0.0300396+0.000867274\ttest-error:0.0574378+0.00407478\n",
      "[940]\ttrain-error:0.029531+0.000696779\ttest-error:0.0570432+0.00414851\n",
      "[950]\ttrain-error:0.0290984+0.000615791\ttest-error:0.0565878+0.00407685\n",
      "[960]\ttrain-error:0.0285444+0.000679624\ttest-error:0.0561018+0.0040565\n",
      "[970]\ttrain-error:0.0283016+0.000669791\ttest-error:0.05592+0.00388138\n",
      "[980]\ttrain-error:0.0277322+0.000617821\ttest-error:0.055677+0.00399227\n",
      "[990]\ttrain-error:0.0273604+0.000644352\ttest-error:0.055525+0.00377632\n"
     ]
    }
   ],
   "source": [
    "bst = xgb.cv(params, dtrain, num_boost_round=1000, early_stopping_rounds=40,nfold=5L,verbose_eval=10)"
   ]
  },
  {
   "cell_type": "code",
   "execution_count": 43,
   "metadata": {
    "collapsed": true
   },
   "outputs": [],
   "source": [
    "bst_train = xgb.train(params, dtrain, num_boost_round=1000)"
   ]
  },
  {
   "cell_type": "code",
   "execution_count": 44,
   "metadata": {
    "collapsed": true
   },
   "outputs": [],
   "source": [
    "predictions=bst_train.predict(dtest)"
   ]
  },
  {
   "cell_type": "code",
   "execution_count": 47,
   "metadata": {},
   "outputs": [
    {
     "data": {
      "text/plain": [
       "array([0.86324894, 0.8461315 , 0.99278885, ..., 0.997323  , 0.8677169 ,\n",
       "       0.9217683 ], dtype=float32)"
      ]
     },
     "execution_count": 47,
     "metadata": {},
     "output_type": "execute_result"
    }
   ],
   "source": [
    "predictions"
   ]
  },
  {
   "cell_type": "code",
   "execution_count": 60,
   "metadata": {
    "collapsed": true
   },
   "outputs": [],
   "source": [
    "import matplotlib.pyplot as plt"
   ]
  },
  {
   "cell_type": "code",
   "execution_count": 48,
   "metadata": {
    "collapsed": true
   },
   "outputs": [],
   "source": [
    "from sklearn.metrics import accuracy_score"
   ]
  },
  {
   "cell_type": "code",
   "execution_count": 49,
   "metadata": {
    "collapsed": true
   },
   "outputs": [],
   "source": [
    "predictions1 = [1 if x > 0.5 else 0 for x in predictions]"
   ]
  },
  {
   "cell_type": "code",
   "execution_count": 50,
   "metadata": {},
   "outputs": [
    {
     "data": {
      "text/plain": [
       "0.9454"
      ]
     },
     "execution_count": 50,
     "metadata": {},
     "output_type": "execute_result"
    }
   ],
   "source": [
    "accuracy_score(test_target, predictions1)"
   ]
  },
  {
   "cell_type": "code",
   "execution_count": 56,
   "metadata": {
    "collapsed": true
   },
   "outputs": [],
   "source": [
    "import operator"
   ]
  },
  {
   "cell_type": "code",
   "execution_count": 54,
   "metadata": {},
   "outputs": [],
   "source": [
    "importance = bst_train.get_fscore()"
   ]
  },
  {
   "cell_type": "code",
   "execution_count": 57,
   "metadata": {},
   "outputs": [],
   "source": [
    "importance = sorted(importance.items(), key=operator.itemgetter(1))"
   ]
  },
  {
   "cell_type": "code",
   "execution_count": 58,
   "metadata": {
    "collapsed": true
   },
   "outputs": [],
   "source": [
    "df = pd.DataFrame(importance, columns=['feature', 'fscore'])\n",
    "df['fscore'] = df['fscore'] / df['fscore'].sum()"
   ]
  },
  {
   "cell_type": "code",
   "execution_count": 61,
   "metadata": {},
   "outputs": [
    {
     "data": {
      "text/plain": [
       "<matplotlib.axes._subplots.AxesSubplot at 0x7f20468e5d90>"
      ]
     },
     "execution_count": 61,
     "metadata": {},
     "output_type": "execute_result"
    }
   ],
   "source": [
    "plt.figure()\n",
    "df.plot()"
   ]
  },
  {
   "cell_type": "code",
   "execution_count": 62,
   "metadata": {},
   "outputs": [
    {
     "data": {
      "text/plain": [
       "Text(0.5,0,u'relative importance')"
      ]
     },
     "execution_count": 62,
     "metadata": {},
     "output_type": "execute_result"
    }
   ],
   "source": [
    "\n",
    "df.plot(kind='barh', x='feature', y='fscore', legend=False, figsize=(6, 10))\n",
    "plt.title('XGBoost Feature Importance')\n",
    "plt.xlabel('relative importance')"
   ]
  },
  {
   "cell_type": "code",
   "execution_count": 63,
   "metadata": {},
   "outputs": [
    {
     "data": {
      "text/plain": [
       "<matplotlib.figure.Figure at 0x7f20468e50d0>"
      ]
     },
     "metadata": {},
     "output_type": "display_data"
    },
    {
     "data": {
      "image/png": "[encoded data removed]",
      "text/plain": [
       "<matplotlib.figure.Figure at 0x7f20468c9a90>"
      ]
     },
     "metadata": {},
     "output_type": "display_data"
    },
    {
     "data": {
      "image/png": "[encoded data removed]",
      "text/plain": [
       "<matplotlib.figure.Figure at 0x7f20465c7c10>"
      ]
     },
     "metadata": {},
     "output_type": "display_data"
    }
   ],
   "source": [
    "plt.show()"
   ]
  },
  {
   "cell_type": "code",
   "execution_count": 64,
   "metadata": {
    "collapsed": true
   },
   "outputs": [],
   "source": [
    "plt.gcf().savefig('feature_importance_xgb.png')"
   ]
  },
  {
   "cell_type": "code",
   "execution_count": null,
   "metadata": {
    "collapsed": true
   },
   "outputs": [],
   "source": []
  },
  {
   "cell_type": "code",
   "execution_count": null,
   "metadata": {
    "collapsed": true
   },
   "outputs": [],
   "source": []
  },
  {
   "cell_type": "code",
   "execution_count": null,
   "metadata": {
    "collapsed": true
   },
   "outputs": [],
   "source": [
    "import pickle"
   ]
  },
  {
   "cell_type": "code",
   "execution_count": null,
   "metadata": {
    "collapsed": true
   },
   "outputs": [],
   "source": [
    "pickle.dump(bst_train, open(\"model.dat\", \"wb\"))"
   ]
  },
  {
   "cell_type": "code",
   "execution_count": null,
   "metadata": {
    "collapsed": true
   },
   "outputs": [],
   "source": [
    "# Trying Out an ensemble of various models to increase the accuracy a bit more"
   ]
  },
  {
   "cell_type": "code",
   "execution_count": 65,
   "metadata": {
    "collapsed": true
   },
   "outputs": [],
   "source": [
    "from sklearn.svm import SVC"
   ]
  },
  {
   "cell_type": "code",
   "execution_count": 78,
   "metadata": {},
   "outputs": [],
   "source": [
    "clfSVM = SVC(max_iter=200,verbose=True)"
   ]
  },
  {
   "cell_type": "code",
   "execution_count": 79,
   "metadata": {},
   "outputs": [
    {
     "name": "stdout",
     "output_type": "stream",
     "text": [
      "[LibSVM]"
     ]
    },
    {
     "name": "stderr",
     "output_type": "stream",
     "text": [
      "/usr/local/lib/python2.7/dist-packages/sklearn/svm/base.py:220: ConvergenceWarning: Solver terminated early (max_iter=200).  Consider pre-processing your data with StandardScaler or MinMaxScaler.\n",
      "  % self.max_iter, ConvergenceWarning)\n"
     ]
    },
    {
     "data": {
      "text/plain": [
       "SVC(C=1.0, cache_size=200, class_weight=None, coef0=0.0,\n",
       "  decision_function_shape=None, degree=3, gamma='auto', kernel='rbf',\n",
       "  max_iter=200, probability=False, random_state=None, shrinking=True,\n",
       "  tol=0.001, verbose=True)"
      ]
     },
     "execution_count": 79,
     "metadata": {},
     "output_type": "execute_result"
    }
   ],
   "source": [
    "clfSVM.fit(combined,target)"
   ]
  },
  {
   "cell_type": "code",
   "execution_count": 80,
   "metadata": {
    "collapsed": true
   },
   "outputs": [],
   "source": [
    "predSVM=clfSVM.predict(test)"
   ]
  },
  {
   "cell_type": "code",
   "execution_count": 81,
   "metadata": {},
   "outputs": [
    {
     "data": {
      "text/plain": [
       "0.8594"
      ]
     },
     "execution_count": 81,
     "metadata": {},
     "output_type": "execute_result"
    }
   ],
   "source": [
    "accuracy_score(test_target, predSVM)"
   ]
  },
  {
   "cell_type": "code",
   "execution_count": 82,
   "metadata": {
    "collapsed": true
   },
   "outputs": [],
   "source": [
    "from sklearn.decomposition import PCA"
   ]
  },
  {
   "cell_type": "code",
   "execution_count": 83,
   "metadata": {
    "collapsed": true
   },
   "outputs": [],
   "source": [
    "pca = PCA(n_components=3)"
   ]
  },
  {
   "cell_type": "code",
   "execution_count": 84,
   "metadata": {
    "collapsed": true
   },
   "outputs": [],
   "source": [
    "pca_result = pca.fit_transform(combined.values)"
   ]
  },
  {
   "cell_type": "code",
   "execution_count": 90,
   "metadata": {},
   "outputs": [],
   "source": [
    "df=pd.DataFrame()\n",
    "df['pca-one'] = pca_result[:,0]\n",
    "df['pca-two'] = pca_result[:,1] \n",
    "df['pca-three'] = pca_result[:,2]"
   ]
  },
  {
   "cell_type": "code",
   "execution_count": 93,
   "metadata": {},
   "outputs": [
    {
     "data": {
      "text/plain": [
       "32940"
      ]
     },
     "execution_count": 93,
     "metadata": {},
     "output_type": "execute_result"
    }
   ],
   "source": [
    "len(df)"
   ]
  },
  {
   "cell_type": "code",
   "execution_count": 100,
   "metadata": {},
   "outputs": [],
   "source": [
    "rndperm = np.random.permutation(df.shape[0])"
   ]
  },
  {
   "cell_type": "code",
   "execution_count": 97,
   "metadata": {},
   "outputs": [],
   "source": [
    "df['label']=target.values"
   ]
  },
  {
   "cell_type": "code",
   "execution_count": 86,
   "metadata": {},
   "outputs": [
    {
     "name": "stdout",
     "output_type": "stream",
     "text": [
      "Explained variation per principal component: [0.97617599 0.02195319 0.00124676]\n"
     ]
    }
   ],
   "source": [
    "print 'Explained variation per principal component: {}'.format(pca.explained_variance_ratio_)"
   ]
  },
  {
   "cell_type": "code",
   "execution_count": 108,
   "metadata": {
    "collapsed": true
   },
   "outputs": [],
   "source": []
  },
  {
   "cell_type": "code",
   "execution_count": 109,
   "metadata": {},
   "outputs": [],
   "source": [
    "from ggplot import *"
   ]
  },
  {
   "cell_type": "code",
   "execution_count": 112,
   "metadata": {
    "collapsed": true
   },
   "outputs": [],
   "source": [
    "chart = ggplot( df.loc[rndperm[:10000],:], aes(x='pca-one', y='pca-two', color='label') ) \\\n",
    "        + geom_point(size=75,alpha=0.8) \\\n",
    "        + ggtitle(\"First and Second Principal Components colored by digit\")"
   ]
  },
  {
   "cell_type": "code",
   "execution_count": 114,
   "metadata": {},
   "outputs": [
    {
     "data": {
      "image/png": "[encoded data removed]",
      "text/plain": [
       "<matplotlib.figure.Figure at 0x7f2041d50f10>"
      ]
     },
     "metadata": {},
     "output_type": "display_data"
    },
    {
     "data": {
      "text/plain": [
       "<ggplot: (8736032606353)>"
      ]
     },
     "execution_count": 114,
     "metadata": {},
     "output_type": "execute_result"
    }
   ],
   "source": [
    "chart"
   ]
  },
  {
   "cell_type": "code",
   "execution_count": 119,
   "metadata": {},
   "outputs": [
    {
     "data": {
      "text/html": [
       "<div>\n",
       "<style>\n",
       "    .dataframe thead tr:only-child th {\n",
       "        text-align: right;\n",
       "    }\n",
       "\n",
       "    .dataframe thead th {\n",
       "        text-align: left;\n",
       "    }\n",
       "\n",
       "    .dataframe tbody tr th {\n",
       "        vertical-align: top;\n",
       "    }\n",
       "</style>\n",
       "<table border=\"1\" class=\"dataframe\">\n",
       "  <thead>\n",
       "    <tr style=\"text-align: right;\">\n",
       "      <th></th>\n",
       "      <th>flux_nb455</th>\n",
       "      <th>flux_nb465</th>\n",
       "      <th>flux_nb475</th>\n",
       "      <th>flux_nb485</th>\n",
       "      <th>flux_nb495</th>\n",
       "      <th>flux_nb505</th>\n",
       "      <th>flux_nb515</th>\n",
       "      <th>flux_nb525</th>\n",
       "      <th>flux_nb535</th>\n",
       "      <th>flux_nb545</th>\n",
       "      <th>...</th>\n",
       "      <th>flux_nb755</th>\n",
       "      <th>flux_nb765</th>\n",
       "      <th>flux_nb775</th>\n",
       "      <th>flux_nb785</th>\n",
       "      <th>flux_nb795</th>\n",
       "      <th>flux_nb805</th>\n",
       "      <th>flux_nb815</th>\n",
       "      <th>flux_nb825</th>\n",
       "      <th>flux_nb835</th>\n",
       "      <th>flux_nb845</th>\n",
       "    </tr>\n",
       "  </thead>\n",
       "  <tbody>\n",
       "    <tr>\n",
       "      <th>13466</th>\n",
       "      <td>-4.17447</td>\n",
       "      <td>-2.01813</td>\n",
       "      <td>-4.89261</td>\n",
       "      <td>-0.156558</td>\n",
       "      <td>-1.46932</td>\n",
       "      <td>3.09616</td>\n",
       "      <td>7.5545</td>\n",
       "      <td>-1.75335</td>\n",
       "      <td>8.92998</td>\n",
       "      <td>1.05407</td>\n",
       "      <td>...</td>\n",
       "      <td>23.5899</td>\n",
       "      <td>27.7107</td>\n",
       "      <td>32.1933</td>\n",
       "      <td>38.3957</td>\n",
       "      <td>30.8334</td>\n",
       "      <td>37.9900</td>\n",
       "      <td>36.5607</td>\n",
       "      <td>39.2136</td>\n",
       "      <td>34.9689</td>\n",
       "      <td>54.1516</td>\n",
       "    </tr>\n",
       "    <tr>\n",
       "      <th>28078</th>\n",
       "      <td>16.90260</td>\n",
       "      <td>19.54810</td>\n",
       "      <td>16.57250</td>\n",
       "      <td>14.514600</td>\n",
       "      <td>18.75120</td>\n",
       "      <td>23.15040</td>\n",
       "      <td>12.2513</td>\n",
       "      <td>6.39578</td>\n",
       "      <td>18.88460</td>\n",
       "      <td>20.74970</td>\n",
       "      <td>...</td>\n",
       "      <td>26.2960</td>\n",
       "      <td>32.8241</td>\n",
       "      <td>34.2934</td>\n",
       "      <td>23.6920</td>\n",
       "      <td>23.4881</td>\n",
       "      <td>34.4967</td>\n",
       "      <td>51.8269</td>\n",
       "      <td>46.5728</td>\n",
       "      <td>67.5597</td>\n",
       "      <td>156.8010</td>\n",
       "    </tr>\n",
       "    <tr>\n",
       "      <th>647</th>\n",
       "      <td>15.19440</td>\n",
       "      <td>45.38950</td>\n",
       "      <td>36.97020</td>\n",
       "      <td>36.916600</td>\n",
       "      <td>45.63760</td>\n",
       "      <td>35.91000</td>\n",
       "      <td>35.3688</td>\n",
       "      <td>51.31340</td>\n",
       "      <td>58.42270</td>\n",
       "      <td>74.63960</td>\n",
       "      <td>...</td>\n",
       "      <td>286.9510</td>\n",
       "      <td>245.0780</td>\n",
       "      <td>248.8430</td>\n",
       "      <td>266.9650</td>\n",
       "      <td>264.8060</td>\n",
       "      <td>296.7810</td>\n",
       "      <td>300.8740</td>\n",
       "      <td>339.8740</td>\n",
       "      <td>324.3630</td>\n",
       "      <td>289.8040</td>\n",
       "    </tr>\n",
       "    <tr>\n",
       "      <th>14605</th>\n",
       "      <td>19.87430</td>\n",
       "      <td>31.65920</td>\n",
       "      <td>26.28030</td>\n",
       "      <td>21.686300</td>\n",
       "      <td>38.88390</td>\n",
       "      <td>32.42630</td>\n",
       "      <td>51.4359</td>\n",
       "      <td>41.01820</td>\n",
       "      <td>44.25380</td>\n",
       "      <td>24.94760</td>\n",
       "      <td>...</td>\n",
       "      <td>77.6515</td>\n",
       "      <td>81.0527</td>\n",
       "      <td>81.3156</td>\n",
       "      <td>80.8098</td>\n",
       "      <td>55.8550</td>\n",
       "      <td>70.1934</td>\n",
       "      <td>72.1830</td>\n",
       "      <td>74.2952</td>\n",
       "      <td>71.2658</td>\n",
       "      <td>92.8093</td>\n",
       "    </tr>\n",
       "    <tr>\n",
       "      <th>25063</th>\n",
       "      <td>3.00813</td>\n",
       "      <td>1.70313</td>\n",
       "      <td>2.82397</td>\n",
       "      <td>7.811640</td>\n",
       "      <td>23.25660</td>\n",
       "      <td>11.53630</td>\n",
       "      <td>12.0596</td>\n",
       "      <td>28.73010</td>\n",
       "      <td>10.71530</td>\n",
       "      <td>32.98350</td>\n",
       "      <td>...</td>\n",
       "      <td>104.5600</td>\n",
       "      <td>128.8350</td>\n",
       "      <td>143.7540</td>\n",
       "      <td>149.2820</td>\n",
       "      <td>157.5550</td>\n",
       "      <td>148.1700</td>\n",
       "      <td>157.6130</td>\n",
       "      <td>146.4960</td>\n",
       "      <td>156.0100</td>\n",
       "      <td>157.8790</td>\n",
       "    </tr>\n",
       "  </tbody>\n",
       "</table>\n",
       "<p>5 rows × 40 columns</p>\n",
       "</div>"
      ],
      "text/plain": [
       "       flux_nb455  flux_nb465  flux_nb475  flux_nb485  flux_nb495  flux_nb505  \\\n",
       "13466    -4.17447    -2.01813    -4.89261   -0.156558    -1.46932     3.09616   \n",
       "28078    16.90260    19.54810    16.57250   14.514600    18.75120    23.15040   \n",
       "647      15.19440    45.38950    36.97020   36.916600    45.63760    35.91000   \n",
       "14605    19.87430    31.65920    26.28030   21.686300    38.88390    32.42630   \n",
       "25063     3.00813     1.70313     2.82397    7.811640    23.25660    11.53630   \n",
       "\n",
       "       flux_nb515  flux_nb525  flux_nb535  flux_nb545     ...      flux_nb755  \\\n",
       "13466      7.5545    -1.75335     8.92998     1.05407     ...         23.5899   \n",
       "28078     12.2513     6.39578    18.88460    20.74970     ...         26.2960   \n",
       "647       35.3688    51.31340    58.42270    74.63960     ...        286.9510   \n",
       "14605     51.4359    41.01820    44.25380    24.94760     ...         77.6515   \n",
       "25063     12.0596    28.73010    10.71530    32.98350     ...        104.5600   \n",
       "\n",
       "       flux_nb765  flux_nb775  flux_nb785  flux_nb795  flux_nb805  flux_nb815  \\\n",
       "13466     27.7107     32.1933     38.3957     30.8334     37.9900     36.5607   \n",
       "28078     32.8241     34.2934     23.6920     23.4881     34.4967     51.8269   \n",
       "647      245.0780    248.8430    266.9650    264.8060    296.7810    300.8740   \n",
       "14605     81.0527     81.3156     80.8098     55.8550     70.1934     72.1830   \n",
       "25063    128.8350    143.7540    149.2820    157.5550    148.1700    157.6130   \n",
       "\n",
       "       flux_nb825  flux_nb835  flux_nb845  \n",
       "13466     39.2136     34.9689     54.1516  \n",
       "28078     46.5728     67.5597    156.8010  \n",
       "647      339.8740    324.3630    289.8040  \n",
       "14605     74.2952     71.2658     92.8093  \n",
       "25063    146.4960    156.0100    157.8790  \n",
       "\n",
       "[5 rows x 40 columns]"
      ]
     },
     "execution_count": 119,
     "metadata": {},
     "output_type": "execute_result"
    }
   ],
   "source": [
    "combined"
   ]
  },
  {
   "cell_type": "code",
   "execution_count": 118,
   "metadata": {},
   "outputs": [
    {
     "data": {
      "text/plain": [
       "array([[-1.57679e-01,  3.66268e+00,  9.07498e-01, ...,  7.89007e+01,\n",
       "         9.15105e+01,  7.29990e+01],\n",
       "       [ 1.37833e+05,  1.34531e+05,  1.52409e+05, ...,  1.85545e+05,\n",
       "         1.79112e+05,  1.78774e+05],\n",
       "       [ 1.89552e+00,  2.05980e+00,  2.03490e+00, ...,  1.04270e+01,\n",
       "         1.60545e+01,  8.17748e+00],\n",
       "       ...,\n",
       "       [         nan,          nan,          nan, ...,          nan,\n",
       "                 nan,          nan],\n",
       "       [         nan,          nan,          nan, ...,          nan,\n",
       "                 nan,          nan],\n",
       "       [ 1.09714e+01,  1.37273e+01,  1.79985e+01, ...,  5.81513e+01,\n",
       "         4.02789e+01,  4.36301e+01]])"
      ]
     },
     "execution_count": 118,
     "metadata": {},
     "output_type": "execute_result"
    }
   ],
   "source": [
    "combined.loc[rndperm[:n_sne],:].values"
   ]
  },
  {
   "cell_type": "code",
   "execution_count": 116,
   "metadata": {},
   "outputs": [
    {
     "ename": "ValueError",
     "evalue": "Input contains NaN, infinity or a value too large for dtype('float64').",
     "output_type": "error",
     "traceback": [
      "\u001b[0;31m---------------------------------------------------------------------------\u001b[0m",
      "\u001b[0;31mValueError\u001b[0m                                Traceback (most recent call last)",
      "\u001b[0;32m<ipython-input-116-a0ebd373118b>\u001b[0m in \u001b[0;36m<module>\u001b[0;34m()\u001b[0m\n\u001b[1;32m      7\u001b[0m \u001b[0mtime_start\u001b[0m \u001b[0;34m=\u001b[0m \u001b[0mtime\u001b[0m\u001b[0;34m.\u001b[0m\u001b[0mtime\u001b[0m\u001b[0;34m(\u001b[0m\u001b[0;34m)\u001b[0m\u001b[0;34m\u001b[0m\u001b[0m\n\u001b[1;32m      8\u001b[0m \u001b[0mtsne\u001b[0m \u001b[0;34m=\u001b[0m \u001b[0mTSNE\u001b[0m\u001b[0;34m(\u001b[0m\u001b[0mn_components\u001b[0m\u001b[0;34m=\u001b[0m\u001b[0;36m2\u001b[0m\u001b[0;34m,\u001b[0m \u001b[0mverbose\u001b[0m\u001b[0;34m=\u001b[0m\u001b[0;36m1\u001b[0m\u001b[0;34m,\u001b[0m \u001b[0mperplexity\u001b[0m\u001b[0;34m=\u001b[0m\u001b[0;36m40\u001b[0m\u001b[0;34m,\u001b[0m \u001b[0mn_iter\u001b[0m\u001b[0;34m=\u001b[0m\u001b[0;36m300\u001b[0m\u001b[0;34m)\u001b[0m\u001b[0;34m\u001b[0m\u001b[0m\n\u001b[0;32m----> 9\u001b[0;31m \u001b[0mtsne_results\u001b[0m \u001b[0;34m=\u001b[0m \u001b[0mtsne\u001b[0m\u001b[0;34m.\u001b[0m\u001b[0mfit_transform\u001b[0m\u001b[0;34m(\u001b[0m\u001b[0mcombined\u001b[0m\u001b[0;34m.\u001b[0m\u001b[0mloc\u001b[0m\u001b[0;34m[\u001b[0m\u001b[0mrndperm\u001b[0m\u001b[0;34m[\u001b[0m\u001b[0;34m:\u001b[0m\u001b[0mn_sne\u001b[0m\u001b[0;34m]\u001b[0m\u001b[0;34m,\u001b[0m\u001b[0;34m:\u001b[0m\u001b[0;34m]\u001b[0m\u001b[0;34m.\u001b[0m\u001b[0mvalues\u001b[0m\u001b[0;34m)\u001b[0m\u001b[0;34m\u001b[0m\u001b[0m\n\u001b[0m\u001b[1;32m     10\u001b[0m \u001b[0;34m\u001b[0m\u001b[0m\n\u001b[1;32m     11\u001b[0m \u001b[0;34m\u001b[0m\u001b[0m\n",
      "\u001b[0;32m/usr/local/lib/python2.7/dist-packages/sklearn/manifold/t_sne.pyc\u001b[0m in \u001b[0;36mfit_transform\u001b[0;34m(self, X, y)\u001b[0m\n\u001b[1;32m    882\u001b[0m             \u001b[0mEmbedding\u001b[0m \u001b[0mof\u001b[0m \u001b[0mthe\u001b[0m \u001b[0mtraining\u001b[0m \u001b[0mdata\u001b[0m \u001b[0;32min\u001b[0m \u001b[0mlow\u001b[0m\u001b[0;34m-\u001b[0m\u001b[0mdimensional\u001b[0m \u001b[0mspace\u001b[0m\u001b[0;34m.\u001b[0m\u001b[0;34m\u001b[0m\u001b[0m\n\u001b[1;32m    883\u001b[0m         \"\"\"\n\u001b[0;32m--> 884\u001b[0;31m         \u001b[0membedding\u001b[0m \u001b[0;34m=\u001b[0m \u001b[0mself\u001b[0m\u001b[0;34m.\u001b[0m\u001b[0m_fit\u001b[0m\u001b[0;34m(\u001b[0m\u001b[0mX\u001b[0m\u001b[0;34m)\u001b[0m\u001b[0;34m\u001b[0m\u001b[0m\n\u001b[0m\u001b[1;32m    885\u001b[0m         \u001b[0mself\u001b[0m\u001b[0;34m.\u001b[0m\u001b[0membedding_\u001b[0m \u001b[0;34m=\u001b[0m \u001b[0membedding\u001b[0m\u001b[0;34m\u001b[0m\u001b[0m\n\u001b[1;32m    886\u001b[0m         \u001b[0;32mreturn\u001b[0m \u001b[0mself\u001b[0m\u001b[0;34m.\u001b[0m\u001b[0membedding_\u001b[0m\u001b[0;34m\u001b[0m\u001b[0m\n",
      "\u001b[0;32m/usr/local/lib/python2.7/dist-packages/sklearn/manifold/t_sne.pyc\u001b[0m in \u001b[0;36m_fit\u001b[0;34m(self, X, skip_num_points)\u001b[0m\n\u001b[1;32m    705\u001b[0m         \u001b[0;32melse\u001b[0m\u001b[0;34m:\u001b[0m\u001b[0;34m\u001b[0m\u001b[0m\n\u001b[1;32m    706\u001b[0m             X = check_array(X, accept_sparse=['csr', 'csc', 'coo'],\n\u001b[0;32m--> 707\u001b[0;31m                             dtype=np.float64)\n\u001b[0m\u001b[1;32m    708\u001b[0m         \u001b[0mrandom_state\u001b[0m \u001b[0;34m=\u001b[0m \u001b[0mcheck_random_state\u001b[0m\u001b[0;34m(\u001b[0m\u001b[0mself\u001b[0m\u001b[0;34m.\u001b[0m\u001b[0mrandom_state\u001b[0m\u001b[0;34m)\u001b[0m\u001b[0;34m\u001b[0m\u001b[0m\n\u001b[1;32m    709\u001b[0m \u001b[0;34m\u001b[0m\u001b[0m\n",
      "\u001b[0;32m/usr/local/lib/python2.7/dist-packages/sklearn/utils/validation.pyc\u001b[0m in \u001b[0;36mcheck_array\u001b[0;34m(array, accept_sparse, dtype, order, copy, force_all_finite, ensure_2d, allow_nd, ensure_min_samples, ensure_min_features, warn_on_dtype, estimator)\u001b[0m\n\u001b[1;32m    405\u001b[0m                              % (array.ndim, estimator_name))\n\u001b[1;32m    406\u001b[0m         \u001b[0;32mif\u001b[0m \u001b[0mforce_all_finite\u001b[0m\u001b[0;34m:\u001b[0m\u001b[0;34m\u001b[0m\u001b[0m\n\u001b[0;32m--> 407\u001b[0;31m             \u001b[0m_assert_all_finite\u001b[0m\u001b[0;34m(\u001b[0m\u001b[0marray\u001b[0m\u001b[0;34m)\u001b[0m\u001b[0;34m\u001b[0m\u001b[0m\n\u001b[0m\u001b[1;32m    408\u001b[0m \u001b[0;34m\u001b[0m\u001b[0m\n\u001b[1;32m    409\u001b[0m     \u001b[0mshape_repr\u001b[0m \u001b[0;34m=\u001b[0m \u001b[0m_shape_repr\u001b[0m\u001b[0;34m(\u001b[0m\u001b[0marray\u001b[0m\u001b[0;34m.\u001b[0m\u001b[0mshape\u001b[0m\u001b[0;34m)\u001b[0m\u001b[0;34m\u001b[0m\u001b[0m\n",
      "\u001b[0;32m/usr/local/lib/python2.7/dist-packages/sklearn/utils/validation.pyc\u001b[0m in \u001b[0;36m_assert_all_finite\u001b[0;34m(X)\u001b[0m\n\u001b[1;32m     56\u001b[0m             and not np.isfinite(X).all()):\n\u001b[1;32m     57\u001b[0m         raise ValueError(\"Input contains NaN, infinity\"\n\u001b[0;32m---> 58\u001b[0;31m                          \" or a value too large for %r.\" % X.dtype)\n\u001b[0m\u001b[1;32m     59\u001b[0m \u001b[0;34m\u001b[0m\u001b[0m\n\u001b[1;32m     60\u001b[0m \u001b[0;34m\u001b[0m\u001b[0m\n",
      "\u001b[0;31mValueError\u001b[0m: Input contains NaN, infinity or a value too large for dtype('float64')."
     ]
    }
   ],
   "source": [
    "import time\n",
    "\n",
    "from sklearn.manifold import TSNE\n",
    "\n",
    "n_sne = 7000\n",
    "\n",
    "time_start = time.time()\n",
    "tsne = TSNE(n_components=2, verbose=1, perplexity=40, n_iter=300)\n",
    "tsne_results = tsne.fit_transform(combined.loc[rndperm[:n_sne],:].values)\n",
    "\n",
    "\n",
    "print 't-SNE done! Time elapsed: {} seconds'.format(time.time()-time_start)"
   ]
  },
  {
   "cell_type": "code",
   "execution_count": null,
   "metadata": {
    "collapsed": true
   },
   "outputs": [],
   "source": []
  },
  {
   "cell_type": "code",
   "execution_count": null,
   "metadata": {
    "collapsed": true
   },
   "outputs": [],
   "source": [
    "from sklearn.ensemble import RandomForestClassifier"
   ]
  },
  {
   "cell_type": "code",
   "execution_count": null,
   "metadata": {
    "collapsed": true
   },
   "outputs": [],
   "source": [
    "clf=RandomForestClassifier()"
   ]
  },
  {
   "cell_type": "code",
   "execution_count": null,
   "metadata": {
    "collapsed": true
   },
   "outputs": [],
   "source": [
    "clf.fit(combined,target)"
   ]
  },
  {
   "cell_type": "code",
   "execution_count": null,
   "metadata": {
    "collapsed": true
   },
   "outputs": [],
   "source": [
    "randomPreds=clf.predict_proba(test)"
   ]
  },
  {
   "cell_type": "code",
   "execution_count": null,
   "metadata": {
    "collapsed": true
   },
   "outputs": [],
   "source": [
    "randomPreds[:,1]"
   ]
  },
  {
   "cell_type": "code",
   "execution_count": null,
   "metadata": {
    "collapsed": true
   },
   "outputs": [],
   "source": [
    "predictions2= [1 if x > 0.5 else 0 for x in randomPreds[:,1]]"
   ]
  },
  {
   "cell_type": "code",
   "execution_count": null,
   "metadata": {
    "collapsed": true
   },
   "outputs": [],
   "source": [
    "ensemblePredicts= (predictions+randomPreds[:,1])/2"
   ]
  },
  {
   "cell_type": "code",
   "execution_count": null,
   "metadata": {
    "collapsed": true
   },
   "outputs": [],
   "source": [
    "predictions3= [1 if x > 0.5 else 0 for x in ensemblePredicts]"
   ]
  },
  {
   "cell_type": "code",
   "execution_count": null,
   "metadata": {
    "collapsed": true
   },
   "outputs": [],
   "source": [
    "accuracy_score(test_target, predictions3)"
   ]
  },
  {
   "cell_type": "code",
   "execution_count": null,
   "metadata": {
    "collapsed": true
   },
   "outputs": [],
   "source": [
    "# Trying out "
   ]
  }
 ],
 "metadata": {
  "kernelspec": {
   "display_name": "Python 2",
   "language": "python",
   "name": "python2"
  },
  "language_info": {
   "codemirror_mode": {
    "name": "ipython",
    "version": 2
   },
   "file_extension": ".py",
   "mimetype": "text/x-python",
   "name": "python",
   "nbconvert_exporter": "python",
   "pygments_lexer": "ipython2",
   "version": "2.7.12"
  }
 },
 "nbformat": 4,
 "nbformat_minor": 2
}
